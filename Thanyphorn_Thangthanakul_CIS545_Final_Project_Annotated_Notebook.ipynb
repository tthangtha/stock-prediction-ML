{
  "nbformat": 4,
  "nbformat_minor": 0,
  "metadata": {
    "colab": {
      "name": "Thanyphorn Thangthanakul CIS545 Final Project: Annotated Notebook",
      "provenance": [],
      "toc_visible": true
    },
    "kernelspec": {
      "name": "python3",
      "display_name": "Python 3"
    }
  },
  "cells": [
    {
      "cell_type": "markdown",
      "metadata": {
        "id": "IV1L1Tew5Dkc",
        "colab_type": "text"
      },
      "source": [
        "# CIS 545 Final Project: Stock Prediction Using Machine Learning\n",
        "# By Thanyaphorn Thangthanakul"
      ]
    },
    {
      "cell_type": "markdown",
      "metadata": {
        "id": "yEC4ymf65IG4",
        "colab_type": "text"
      },
      "source": [
        "The markets are always changing, and people spend so much time trying to\n",
        "predict them. Quantitative finance, a field that I am very interested in, is new and fast-growing. While many people must have done\n",
        "predictions on the stock data before, I know that each analysis yields different\n",
        "results and implications. It depends a lot on which data and which perspective we\n",
        "want to explore, and I hope to use this project as a starting point for my interests\n",
        "in quant finance and further research. I hope to make this project extensible to anyone interested in making improvements on\n",
        "the model etc. and hope to make this project my starting point/inspiration of creating\n",
        "profitable trading algorithms.\n",
        "\n",
        "There are two major school of thoughts when analyzing stock markets. Technical analysis pays close attention to stock price, patterns, charts, and trends to analyze how the stocks will perform in the future. Meanwhile, fundamental analysis seeks to measure the intrinsic value of the stocks. Everything from economic condition to financial condition and management of companies, its earnings, expenses, assets, and liabilities are all important characteristics to fundamental analysts.\n",
        "\n",
        "In this project, I decided to split my analysis into 2 parts with different objectives:\n",
        "\n",
        "\n",
        "1.   Technical Analysis: use closing price of 60 previous days of each stock to predict the stock price at that date.\n",
        "2.   Fundamental Analysis: predict S&P500 stock outperformance based on their fundamental information and determine which factors contribute to the outperformance of the stocks. "
      ]
    },
    {
      "cell_type": "code",
      "metadata": {
        "id": "nb_2o336gBzU",
        "colab_type": "code",
        "outputId": "e3080f12-d0b7-4cf3-ab4d-81db73ad6958",
        "colab": {
          "base_uri": "https://localhost:8080/",
          "height": 394
        }
      },
      "source": [
        "!pip install pandas-datareader\n",
        "!pip install keras\n",
        "!pip install FundamentalAnalysis"
      ],
      "execution_count": 3,
      "outputs": [
        {
          "output_type": "stream",
          "text": [
            "Requirement already satisfied: pandas-datareader in /usr/local/lib/python3.6/dist-packages (0.8.1)\n",
            "Requirement already satisfied: pandas>=0.21 in /usr/local/lib/python3.6/dist-packages (from pandas-datareader) (1.0.3)\n",
            "Requirement already satisfied: requests>=2.3.0 in /usr/local/lib/python3.6/dist-packages (from pandas-datareader) (2.23.0)\n",
            "Requirement already satisfied: lxml in /usr/local/lib/python3.6/dist-packages (from pandas-datareader) (4.2.6)\n",
            "Requirement already satisfied: pytz>=2017.2 in /usr/local/lib/python3.6/dist-packages (from pandas>=0.21->pandas-datareader) (2018.9)\n",
            "Requirement already satisfied: python-dateutil>=2.6.1 in /usr/local/lib/python3.6/dist-packages (from pandas>=0.21->pandas-datareader) (2.8.1)\n",
            "Requirement already satisfied: numpy>=1.13.3 in /usr/local/lib/python3.6/dist-packages (from pandas>=0.21->pandas-datareader) (1.18.3)\n",
            "Requirement already satisfied: chardet<4,>=3.0.2 in /usr/local/lib/python3.6/dist-packages (from requests>=2.3.0->pandas-datareader) (3.0.4)\n",
            "Requirement already satisfied: urllib3!=1.25.0,!=1.25.1,<1.26,>=1.21.1 in /usr/local/lib/python3.6/dist-packages (from requests>=2.3.0->pandas-datareader) (1.24.3)\n",
            "Requirement already satisfied: idna<3,>=2.5 in /usr/local/lib/python3.6/dist-packages (from requests>=2.3.0->pandas-datareader) (2.9)\n",
            "Requirement already satisfied: certifi>=2017.4.17 in /usr/local/lib/python3.6/dist-packages (from requests>=2.3.0->pandas-datareader) (2020.4.5.1)\n",
            "Requirement already satisfied: six>=1.5 in /usr/local/lib/python3.6/dist-packages (from python-dateutil>=2.6.1->pandas>=0.21->pandas-datareader) (1.12.0)\n",
            "Requirement already satisfied: keras in /usr/local/lib/python3.6/dist-packages (2.3.1)\n",
            "Requirement already satisfied: scipy>=0.14 in /usr/local/lib/python3.6/dist-packages (from keras) (1.4.1)\n",
            "Requirement already satisfied: six>=1.9.0 in /usr/local/lib/python3.6/dist-packages (from keras) (1.12.0)\n",
            "Requirement already satisfied: h5py in /usr/local/lib/python3.6/dist-packages (from keras) (2.10.0)\n",
            "Requirement already satisfied: keras-applications>=1.0.6 in /usr/local/lib/python3.6/dist-packages (from keras) (1.0.8)\n",
            "Requirement already satisfied: keras-preprocessing>=1.0.5 in /usr/local/lib/python3.6/dist-packages (from keras) (1.1.0)\n",
            "Requirement already satisfied: numpy>=1.9.1 in /usr/local/lib/python3.6/dist-packages (from keras) (1.18.3)\n",
            "Requirement already satisfied: pyyaml in /usr/local/lib/python3.6/dist-packages (from keras) (3.13)\n",
            "Requirement already satisfied: FundamentalAnalysis in /usr/local/lib/python3.6/dist-packages (0.2.0)\n"
          ],
          "name": "stdout"
        }
      ]
    },
    {
      "cell_type": "code",
      "metadata": {
        "id": "jVZoyeGkgFu3",
        "colab_type": "code",
        "colab": {}
      },
      "source": [
        "import math\n",
        "import numpy as np\n",
        "import pandas as pd\n",
        "import matplotlib.pyplot as plt\n",
        "import pandas_datareader as pdr\n",
        "from sklearn.preprocessing import MinMaxScaler\n",
        "from keras.models import Sequential\n",
        "from keras.layers import Dense, LSTM\n",
        "import FundamentalAnalysis as fa\n",
        "import bs4 as bs\n",
        "import pickle\n",
        "import random\n",
        "import requests\n",
        "from google.colab import files\n",
        "from statsmodels.graphics.tsaplots import plot_acf"
      ],
      "execution_count": 0,
      "outputs": []
    },
    {
      "cell_type": "markdown",
      "metadata": {
        "id": "4GY3C3AWhowA",
        "colab_type": "text"
      },
      "source": [
        "# Part 1: Technical Analysis"
      ]
    },
    {
      "cell_type": "markdown",
      "metadata": {
        "id": "Nj_I70BINQvD",
        "colab_type": "text"
      },
      "source": [
        "## Data Exploration and Setup"
      ]
    },
    {
      "cell_type": "markdown",
      "metadata": {
        "id": "8edqKCwrCiaV",
        "colab_type": "text"
      },
      "source": [
        "I decided to use daily stock price data for the 5 years, from January 2015 to January 2020. I picked the start date in the middle of the month to avoid starting with holidays and also chose to stop at January to exclude the current market fluctuation due to the pandemic. I picked Apple stock to perform data exploration and demonstrate the model fitting and prediction."
      ]
    },
    {
      "cell_type": "code",
      "metadata": {
        "id": "3O80HQYqhL5e",
        "colab_type": "code",
        "colab": {}
      },
      "source": [
        "start_date = '2015-01-10'\n",
        "end_date = '2020-01-10'"
      ],
      "execution_count": 0,
      "outputs": []
    },
    {
      "cell_type": "code",
      "metadata": {
        "id": "vYs3DiRfgF-D",
        "colab_type": "code",
        "outputId": "b43700f7-7aa9-4d32-a804-7d76ed1d610e",
        "colab": {
          "base_uri": "https://localhost:8080/",
          "height": 235
        }
      },
      "source": [
        "aapl_stock = pdr.DataReader('AAPL', data_source='yahoo', start = start_date, end = end_date)\n",
        "aapl_stock.head()"
      ],
      "execution_count": 6,
      "outputs": [
        {
          "output_type": "execute_result",
          "data": {
            "text/html": [
              "<div>\n",
              "<style scoped>\n",
              "    .dataframe tbody tr th:only-of-type {\n",
              "        vertical-align: middle;\n",
              "    }\n",
              "\n",
              "    .dataframe tbody tr th {\n",
              "        vertical-align: top;\n",
              "    }\n",
              "\n",
              "    .dataframe thead th {\n",
              "        text-align: right;\n",
              "    }\n",
              "</style>\n",
              "<table border=\"1\" class=\"dataframe\">\n",
              "  <thead>\n",
              "    <tr style=\"text-align: right;\">\n",
              "      <th></th>\n",
              "      <th>High</th>\n",
              "      <th>Low</th>\n",
              "      <th>Open</th>\n",
              "      <th>Close</th>\n",
              "      <th>Volume</th>\n",
              "      <th>Adj Close</th>\n",
              "    </tr>\n",
              "    <tr>\n",
              "      <th>Date</th>\n",
              "      <th></th>\n",
              "      <th></th>\n",
              "      <th></th>\n",
              "      <th></th>\n",
              "      <th></th>\n",
              "      <th></th>\n",
              "    </tr>\n",
              "  </thead>\n",
              "  <tbody>\n",
              "    <tr>\n",
              "      <th>2015-01-12</th>\n",
              "      <td>112.629997</td>\n",
              "      <td>108.800003</td>\n",
              "      <td>112.599998</td>\n",
              "      <td>109.250000</td>\n",
              "      <td>49650800.0</td>\n",
              "      <td>100.143120</td>\n",
              "    </tr>\n",
              "    <tr>\n",
              "      <th>2015-01-13</th>\n",
              "      <td>112.800003</td>\n",
              "      <td>108.910004</td>\n",
              "      <td>111.430000</td>\n",
              "      <td>110.220001</td>\n",
              "      <td>67091900.0</td>\n",
              "      <td>101.032280</td>\n",
              "    </tr>\n",
              "    <tr>\n",
              "      <th>2015-01-14</th>\n",
              "      <td>110.489998</td>\n",
              "      <td>108.500000</td>\n",
              "      <td>109.040001</td>\n",
              "      <td>109.800003</td>\n",
              "      <td>48956600.0</td>\n",
              "      <td>100.647285</td>\n",
              "    </tr>\n",
              "    <tr>\n",
              "      <th>2015-01-15</th>\n",
              "      <td>110.059998</td>\n",
              "      <td>106.660004</td>\n",
              "      <td>110.000000</td>\n",
              "      <td>106.820000</td>\n",
              "      <td>60014000.0</td>\n",
              "      <td>97.915672</td>\n",
              "    </tr>\n",
              "    <tr>\n",
              "      <th>2015-01-16</th>\n",
              "      <td>107.580002</td>\n",
              "      <td>105.199997</td>\n",
              "      <td>107.029999</td>\n",
              "      <td>105.989998</td>\n",
              "      <td>78513300.0</td>\n",
              "      <td>97.154854</td>\n",
              "    </tr>\n",
              "  </tbody>\n",
              "</table>\n",
              "</div>"
            ],
            "text/plain": [
              "                  High         Low  ...      Volume   Adj Close\n",
              "Date                                ...                        \n",
              "2015-01-12  112.629997  108.800003  ...  49650800.0  100.143120\n",
              "2015-01-13  112.800003  108.910004  ...  67091900.0  101.032280\n",
              "2015-01-14  110.489998  108.500000  ...  48956600.0  100.647285\n",
              "2015-01-15  110.059998  106.660004  ...  60014000.0   97.915672\n",
              "2015-01-16  107.580002  105.199997  ...  78513300.0   97.154854\n",
              "\n",
              "[5 rows x 6 columns]"
            ]
          },
          "metadata": {
            "tags": []
          },
          "execution_count": 6
        }
      ]
    },
    {
      "cell_type": "code",
      "metadata": {
        "id": "Dvz6P3s9lq_S",
        "colab_type": "code",
        "outputId": "ead6705b-6a6a-47dd-f9e8-46ae11b806cb",
        "colab": {
          "base_uri": "https://localhost:8080/",
          "height": 390
        }
      },
      "source": [
        "plt.figure(figsize=(14, 6))\n",
        "plt.title(\"AAPL: High Low Open and Close\")\n",
        "plt.plot(aapl_stock[['High', 'Low', 'Open', 'Close']])\n",
        "plt.legend(['High', 'Low', 'Open', 'Close'], loc='lower right')\n",
        "plt.show()"
      ],
      "execution_count": 7,
      "outputs": [
        {
          "output_type": "display_data",
          "data": {
            "image/png": "[encoded data removed]",
            "text/plain": [
              "<Figure size 1008x432 with 1 Axes>"
            ]
          },
          "metadata": {
            "tags": [],
            "needs_background": "light"
          }
        }
      ]
    },
    {
      "cell_type": "markdown",
      "metadata": {
        "id": "uFQgA2yZDYQw",
        "colab_type": "text"
      },
      "source": [
        "From the plot above, I saw that 'High', 'Low', 'Open', and 'Close' data essentially follow the same trend. Therefore, I chose to use just the 'Close' price for the analysis."
      ]
    },
    {
      "cell_type": "code",
      "metadata": {
        "id": "aLQF4ddnhmAV",
        "colab_type": "code",
        "outputId": "01ef95cc-26a3-48f7-e1b3-725a9c5c3384",
        "colab": {
          "base_uri": "https://localhost:8080/",
          "height": 390
        }
      },
      "source": [
        "plt.figure(figsize=(14, 6))\n",
        "plt.title(\"AAPL: Close price\")\n",
        "plt.plot(aapl_stock['Close'])\n",
        "plt.show()"
      ],
      "execution_count": 8,
      "outputs": [
        {
          "output_type": "display_data",
          "data": {
            "image/png": "[encoded data removed]",
            "text/plain": [
              "<Figure size 1008x432 with 1 Axes>"
            ]
          },
          "metadata": {
            "tags": [],
            "needs_background": "light"
          }
        }
      ]
    },
    {
      "cell_type": "markdown",
      "metadata": {
        "id": "nlocqj_uERDC",
        "colab_type": "text"
      },
      "source": [
        "My assumption is that the previous days' closing price will be a strong predictor of the current closing price of each day. In this exploration step, I plotted the 30 and 60-day moving average too see the trends. We can see that the trends for both 30 and 60 days are both similar to the price."
      ]
    },
    {
      "cell_type": "code",
      "metadata": {
        "id": "An2Seh6eo5pV",
        "colab_type": "code",
        "outputId": "157f892b-56d3-4bb4-f62e-9cd67576c48a",
        "colab": {
          "base_uri": "https://localhost:8080/",
          "height": 383
        }
      },
      "source": [
        "plt.figure(figsize=(14, 6))\n",
        "plt.title(\"AAPL: Close price and average prices\")\n",
        "aapl_stock['Close'].rolling(window=30).mean().plot(label='30 Day Avg')\n",
        "aapl_stock['Close'].rolling(window=60).mean().plot(label='60 Day Avg')\n",
        "aapl_stock['Close'].plot(label='Close Price')\n",
        "plt.legend()\n",
        "plt.show()"
      ],
      "execution_count": 9,
      "outputs": [
        {
          "output_type": "display_data",
          "data": {
            "image/png": "[encoded data removed]",
            "text/plain": [
              "<Figure size 1008x432 with 1 Axes>"
            ]
          },
          "metadata": {
            "tags": [],
            "needs_background": "light"
          }
        }
      ]
    },
    {
      "cell_type": "markdown",
      "metadata": {
        "id": "kdgeuA8ZFENJ",
        "colab_type": "text"
      },
      "source": [
        "One major problem is that by nature, stock prices are autocorrelated. This violates the assumption of the linear model, but I believe it is still insightful to fit the linear model."
      ]
    },
    {
      "cell_type": "code",
      "metadata": {
        "id": "-Xw0jAgDwPbJ",
        "colab_type": "code",
        "outputId": "22faa41d-cc19-49c2-b9fa-c97546ad85bd",
        "colab": {
          "base_uri": "https://localhost:8080/",
          "height": 281
        }
      },
      "source": [
        "plot_acf(aapl_stock['Close'], lags = 50);"
      ],
      "execution_count": 10,
      "outputs": [
        {
          "output_type": "display_data",
          "data": {
            "image/png": "[encoded data removed]",
            "text/plain": [
              "<Figure size 432x288 with 1 Axes>"
            ]
          },
          "metadata": {
            "tags": [],
            "needs_background": "light"
          }
        }
      ]
    },
    {
      "cell_type": "code",
      "metadata": {
        "id": "UXrYLE0Sh-L3",
        "colab_type": "code",
        "colab": {}
      },
      "source": [
        "aapl_close = aapl_stock.filter(['Close'])\n",
        "aapl_data = aapl_close.values"
      ],
      "execution_count": 0,
      "outputs": []
    },
    {
      "cell_type": "markdown",
      "metadata": {
        "id": "ugrl7HU7GbHl",
        "colab_type": "text"
      },
      "source": [
        "I chose to split the data by the date, with the assumption that a good model will be useful in predicting future values. Then, I created the train and test datasets by creating and populating the columns for each of the previous 60 closing days. For the dependent variable, I put the data of each of the closing day associated with those previous 60 days."
      ]
    },
    {
      "cell_type": "code",
      "metadata": {
        "id": "ufhR3-Zq3kAd",
        "colab_type": "code",
        "colab": {}
      },
      "source": [
        "#Train the model on the first 80% of the data\n",
        "training_data_len = math.ceil(len(aapl_data)*.8) \n",
        "\n",
        "#Create train dataset out of 60 previous trading days\n",
        "train_data = aapl_data[0:training_data_len, : ]\n",
        "x_train=[]\n",
        "y_train = []\n",
        "for i in range(60,len(train_data)):\n",
        "    x_train.append(train_data[i-60:i,0])\n",
        "    y_train.append(train_data[i,0])"
      ],
      "execution_count": 0,
      "outputs": []
    },
    {
      "cell_type": "code",
      "metadata": {
        "id": "XreCQhAj5jof",
        "colab_type": "code",
        "colab": {}
      },
      "source": [
        "#Create test dataset\n",
        "test_data = aapl_data[training_data_len - 60: , : ]\n",
        "x_test = []\n",
        "y_test =  []\n",
        "for i in range(60,len(test_data)):\n",
        "    x_test.append(test_data[i-60:i,0])\n",
        "    y_test.append(test_data[i,0])"
      ],
      "execution_count": 0,
      "outputs": []
    },
    {
      "cell_type": "code",
      "metadata": {
        "id": "gN7dGIDb32g9",
        "colab_type": "code",
        "colab": {}
      },
      "source": [
        "#Convert to numpy arrays\n",
        "x_train, y_train = np.array(x_train), np.array(y_train)\n",
        "x_test, y_test = np.array(x_test), np.array(y_test)"
      ],
      "execution_count": 0,
      "outputs": []
    },
    {
      "cell_type": "markdown",
      "metadata": {
        "id": "oXxF0Ets3faW",
        "colab_type": "text"
      },
      "source": [
        "## Linear Regression"
      ]
    },
    {
      "cell_type": "markdown",
      "metadata": {
        "id": "St5UvLesHSba",
        "colab_type": "text"
      },
      "source": [
        "First, I performed the simple linear regression fit for the training data. The R-squared is high for the fit, with 99%. The RMSE for test data is 3.45. Also, by the visualization below, we can see that our prediction performs pretty well."
      ]
    },
    {
      "cell_type": "code",
      "metadata": {
        "id": "yj_hNuQe3_VC",
        "colab_type": "code",
        "outputId": "4ad8707a-d2b5-49aa-d4fa-ef61ae0afe63",
        "colab": {
          "base_uri": "https://localhost:8080/",
          "height": 34
        }
      },
      "source": [
        "from sklearn.linear_model import LinearRegression\n",
        "\n",
        "lin_reg = LinearRegression()\n",
        "lin_reg.fit(x_train, y_train)"
      ],
      "execution_count": 15,
      "outputs": [
        {
          "output_type": "execute_result",
          "data": {
            "text/plain": [
              "LinearRegression(copy_X=True, fit_intercept=True, n_jobs=None, normalize=False)"
            ]
          },
          "metadata": {
            "tags": []
          },
          "execution_count": 15
        }
      ]
    },
    {
      "cell_type": "code",
      "metadata": {
        "id": "3oSvTKnX5X3M",
        "colab_type": "code",
        "outputId": "2f5a5083-9ace-43e3-aeab-76e609f93818",
        "colab": {
          "base_uri": "https://localhost:8080/",
          "height": 51
        }
      },
      "source": [
        "# R squared????\n",
        "print(lin_reg.score(x_train, y_train))\n",
        "print(lin_reg.score(x_test, y_test))"
      ],
      "execution_count": 16,
      "outputs": [
        {
          "output_type": "stream",
          "text": [
            "0.9962419257374365\n",
            "0.9909762138877197\n"
          ],
          "name": "stdout"
        }
      ]
    },
    {
      "cell_type": "code",
      "metadata": {
        "id": "aprUKEMG6Nol",
        "colab_type": "code",
        "outputId": "7d3e8e01-31ee-4a86-a396-20a8d5d25955",
        "colab": {
          "base_uri": "https://localhost:8080/",
          "height": 34
        }
      },
      "source": [
        "# find RMSE value\n",
        "from sklearn.metrics import mean_squared_error\n",
        "\n",
        "y_predict = lin_reg.predict(x_test)\n",
        "lin_reg_mse = mean_squared_error(y_predict, y_test)\n",
        "rmse = math.sqrt(lin_reg_mse)\n",
        "rmse"
      ],
      "execution_count": 17,
      "outputs": [
        {
          "output_type": "execute_result",
          "data": {
            "text/plain": [
              "3.4470553493885867"
            ]
          },
          "metadata": {
            "tags": []
          },
          "execution_count": 17
        }
      ]
    },
    {
      "cell_type": "code",
      "metadata": {
        "id": "KFmNA1nD6rOB",
        "colab_type": "code",
        "outputId": "493ee560-95c6-4fb4-811d-dd867930eb0d",
        "colab": {
          "base_uri": "https://localhost:8080/",
          "height": 526
        }
      },
      "source": [
        "#Plot the graph of actual vs predicted values\n",
        "train = aapl_close[:training_data_len]\n",
        "valid = aapl_close[training_data_len:]\n",
        "valid['Predictions'] = y_predict\n",
        "plt.figure(figsize=(13,6))\n",
        "plt.title('Linear Regression Prediction')\n",
        "plt.xlabel('Date')\n",
        "plt.ylabel('Close Price')\n",
        "plt.plot(train)\n",
        "plt.plot(valid[['Close', 'Predictions']])\n",
        "plt.legend(['Train', 'Actual', 'Predicted'], loc='lower right')\n",
        "plt.show()"
      ],
      "execution_count": 18,
      "outputs": [
        {
          "output_type": "stream",
          "text": [
            "/usr/local/lib/python3.6/dist-packages/ipykernel_launcher.py:3: SettingWithCopyWarning: \n",
            "A value is trying to be set on a copy of a slice from a DataFrame.\n",
            "Try using .loc[row_indexer,col_indexer] = value instead\n",
            "\n",
            "See the caveats in the documentation: https://pandas.pydata.org/pandas-docs/stable/user_guide/indexing.html#returning-a-view-versus-a-copy\n",
            "  This is separate from the ipykernel package so we can avoid doing imports until\n"
          ],
          "name": "stderr"
        },
        {
          "output_type": "display_data",
          "data": {
            "image/png": "[encoded data removed]",
            "text/plain": [
              "<Figure size 936x432 with 1 Axes>"
            ]
          },
          "metadata": {
            "tags": [],
            "needs_background": "light"
          }
        }
      ]
    },
    {
      "cell_type": "markdown",
      "metadata": {
        "id": "iA30_9VG67z5",
        "colab_type": "text"
      },
      "source": [
        "## Random Forest"
      ]
    },
    {
      "cell_type": "markdown",
      "metadata": {
        "id": "f3b7FlvvIDbs",
        "colab_type": "text"
      },
      "source": [
        "Next, I decided to use the Random Forest Model, which is an ensemble learning method. I chose the number of estimators and the max depth to prevent the overfitting of the data. However, we can see that the score of the model is very high (99.91%) for the train data, but significantly lower for the test data (53.96%). This still indicates that there is a lot of overfitting, and thus the RMSE is high, at around 23.8. From the plot below, I could understand that the model is not trained to deal with data that is significantly outside of the range of the training set, so the model cannot further give a valuable result of the testing prediction after a certain value. "
      ]
    },
    {
      "cell_type": "code",
      "metadata": {
        "id": "N-zWTuje8e4A",
        "colab_type": "code",
        "outputId": "33f9035e-251b-419d-91d8-76cfdc95fdf2",
        "colab": {
          "base_uri": "https://localhost:8080/",
          "height": 136
        }
      },
      "source": [
        "from sklearn.ensemble import RandomForestRegressor\n",
        "rfr = RandomForestRegressor(random_state=12, n_estimators=10, max_depth = 10) \n",
        "rfr.fit(x_train, y_train)"
      ],
      "execution_count": 19,
      "outputs": [
        {
          "output_type": "execute_result",
          "data": {
            "text/plain": [
              "RandomForestRegressor(bootstrap=True, ccp_alpha=0.0, criterion='mse',\n",
              "                      max_depth=10, max_features='auto', max_leaf_nodes=None,\n",
              "                      max_samples=None, min_impurity_decrease=0.0,\n",
              "                      min_impurity_split=None, min_samples_leaf=1,\n",
              "                      min_samples_split=2, min_weight_fraction_leaf=0.0,\n",
              "                      n_estimators=10, n_jobs=None, oob_score=False,\n",
              "                      random_state=12, verbose=0, warm_start=False)"
            ]
          },
          "metadata": {
            "tags": []
          },
          "execution_count": 19
        }
      ]
    },
    {
      "cell_type": "code",
      "metadata": {
        "id": "8PVQsgPBKJGg",
        "colab_type": "code",
        "outputId": "16b10f76-6c38-4431-fe33-522827c7cc20",
        "colab": {
          "base_uri": "https://localhost:8080/",
          "height": 51
        }
      },
      "source": [
        "print(rfr.score(x_train, y_train))\n",
        "print(rfr.score(x_test, y_test))"
      ],
      "execution_count": 20,
      "outputs": [
        {
          "output_type": "stream",
          "text": [
            "0.9991191387778122\n",
            "0.5395884250555992\n"
          ],
          "name": "stdout"
        }
      ]
    },
    {
      "cell_type": "code",
      "metadata": {
        "id": "358J6h41ID2e",
        "colab_type": "code",
        "outputId": "e91824d2-563c-4ea4-a80c-83a0b8afaf5b",
        "colab": {
          "base_uri": "https://localhost:8080/",
          "height": 34
        }
      },
      "source": [
        "y_predict = rfr.predict(x_test)\n",
        "rfr_mse = mean_squared_error(y_predict, y_test)\n",
        "rmse = math.sqrt(rfr_mse)\n",
        "rmse"
      ],
      "execution_count": 21,
      "outputs": [
        {
          "output_type": "execute_result",
          "data": {
            "text/plain": [
              "24.622206950045943"
            ]
          },
          "metadata": {
            "tags": []
          },
          "execution_count": 21
        }
      ]
    },
    {
      "cell_type": "code",
      "metadata": {
        "id": "e8pMPKLVNLj1",
        "colab_type": "code",
        "outputId": "29b943a4-53b6-4c0e-e52b-3bb69309f68e",
        "colab": {
          "base_uri": "https://localhost:8080/",
          "height": 526
        }
      },
      "source": [
        "#Plot the graph of actual vs predicted values\n",
        "train = aapl_close[:training_data_len]\n",
        "valid = aapl_close[training_data_len:]\n",
        "valid['Predictions'] = y_predict\n",
        "plt.figure(figsize=(13,6))\n",
        "plt.title('Random Forest Prediction')\n",
        "plt.xlabel('Date')\n",
        "plt.ylabel('Close Price')\n",
        "plt.plot(train)\n",
        "plt.plot(valid[['Close', 'Predictions']])\n",
        "plt.legend(['Train', 'Actual', 'Predicted'], loc='lower right')\n",
        "plt.show()"
      ],
      "execution_count": 22,
      "outputs": [
        {
          "output_type": "stream",
          "text": [
            "/usr/local/lib/python3.6/dist-packages/ipykernel_launcher.py:3: SettingWithCopyWarning: \n",
            "A value is trying to be set on a copy of a slice from a DataFrame.\n",
            "Try using .loc[row_indexer,col_indexer] = value instead\n",
            "\n",
            "See the caveats in the documentation: https://pandas.pydata.org/pandas-docs/stable/user_guide/indexing.html#returning-a-view-versus-a-copy\n",
            "  This is separate from the ipykernel package so we can avoid doing imports until\n"
          ],
          "name": "stderr"
        },
        {
          "output_type": "display_data",
          "data": {
            "image/png": "[encoded data removed]",
            "text/plain": [
              "<Figure size 936x432 with 1 Axes>"
            ]
          },
          "metadata": {
            "tags": [],
            "needs_background": "light"
          }
        }
      ]
    },
    {
      "cell_type": "markdown",
      "metadata": {
        "id": "aJ7K-Vp4thMr",
        "colab_type": "text"
      },
      "source": [
        "##LSTM"
      ]
    },
    {
      "cell_type": "markdown",
      "metadata": {
        "id": "CPFLxTw5Ji5k",
        "colab_type": "text"
      },
      "source": [
        "Long short-term memory (LSTM) is an artificial recurrent neural network (RNN) architecture used in the field of deep learning. I found that LSTM neural networks are well-suited to making predictions based on time series data, which in this case is the stock price. I decided to use 2 LSTM and 2 Dense layers in this analysis. The plot shows that the prediction closely follows the actual data, with a trend of the predicted being a bit slower. The result RMSE is higher than that of the linear model. However, as I am just a novice on the topic LSTM model, I believe that there is a big room for improvement and tuning for the model layers for future studies. "
      ]
    },
    {
      "cell_type": "code",
      "metadata": {
        "id": "HdszB6qetjRx",
        "colab_type": "code",
        "colab": {}
      },
      "source": [
        "#Scale the data\n",
        "scaler = MinMaxScaler(feature_range=(0, 1)) \n",
        "scaled_data = scaler.fit_transform(aapl_data)\n",
        "\n",
        "#Create train datasets\n",
        "train_data = scaled_data[0:training_data_len  , : ]\n",
        "x_train=[]\n",
        "y_train = []\n",
        "for i in range(60,len(train_data)):\n",
        "    x_train.append(train_data[i-60:i,0])\n",
        "    y_train.append(train_data[i,0])"
      ],
      "execution_count": 0,
      "outputs": []
    },
    {
      "cell_type": "code",
      "metadata": {
        "id": "F_ssyCQHuKEP",
        "colab_type": "code",
        "colab": {}
      },
      "source": [
        "#Convert to numpy arrays\n",
        "x_train, y_train = np.array(x_train), np.array(y_train)\n",
        "#Reshape the data for the LSTM model: 3D input\n",
        "x_train = np.reshape(x_train, (x_train.shape[0],x_train.shape[1],1))"
      ],
      "execution_count": 0,
      "outputs": []
    },
    {
      "cell_type": "code",
      "metadata": {
        "id": "gQEZX5Y1uZ35",
        "colab_type": "code",
        "colab": {}
      },
      "source": [
        "model = Sequential()\n",
        "model.add(LSTM(units=50, return_sequences=True,input_shape=(x_train.shape[1],1)))\n",
        "model.add(LSTM(units=50, return_sequences=False))\n",
        "model.add(Dense(units=25))\n",
        "model.add(Dense(units=1))"
      ],
      "execution_count": 0,
      "outputs": []
    },
    {
      "cell_type": "code",
      "metadata": {
        "id": "qj2RihIKucEw",
        "colab_type": "code",
        "colab": {}
      },
      "source": [
        "model.compile(optimizer='adam', loss='mean_squared_error')"
      ],
      "execution_count": 0,
      "outputs": []
    },
    {
      "cell_type": "code",
      "metadata": {
        "id": "fdfZNTV3ud40",
        "colab_type": "code",
        "outputId": "f7550883-56fe-49cd-c81d-8351c40ffa72",
        "colab": {
          "base_uri": "https://localhost:8080/",
          "height": 68
        }
      },
      "source": [
        "model.fit(x_train, y_train, batch_size=1, epochs=1)"
      ],
      "execution_count": 27,
      "outputs": [
        {
          "output_type": "stream",
          "text": [
            "Epoch 1/1\n",
            "948/948 [==============================] - 38s 40ms/step - loss: 0.0017\n"
          ],
          "name": "stdout"
        },
        {
          "output_type": "execute_result",
          "data": {
            "text/plain": [
              "<keras.callbacks.callbacks.History at 0x7fab3f6dcc50>"
            ]
          },
          "metadata": {
            "tags": []
          },
          "execution_count": 27
        }
      ]
    },
    {
      "cell_type": "code",
      "metadata": {
        "id": "wHqHdlILufoi",
        "colab_type": "code",
        "colab": {}
      },
      "source": [
        "#Create test datasets\n",
        "test_data = scaled_data[training_data_len - 60: , : ]\n",
        "x_test = []\n",
        "y_test =  aapl_data[training_data_len : , : ]\n",
        "for i in range(60,len(test_data)):\n",
        "    x_test.append(test_data[i-60:i,0])"
      ],
      "execution_count": 0,
      "outputs": []
    },
    {
      "cell_type": "code",
      "metadata": {
        "id": "RxMW2FjFuoFl",
        "colab_type": "code",
        "colab": {}
      },
      "source": [
        "#Convert to a numpy array \n",
        "x_test = np.array(x_test)\n",
        "#Reshape the data for the LSTM model: 3D input\n",
        "x_test = np.reshape(x_test, (x_test.shape[0],x_test.shape[1],1))"
      ],
      "execution_count": 0,
      "outputs": []
    },
    {
      "cell_type": "code",
      "metadata": {
        "id": "YEv8ryJNuqzW",
        "colab_type": "code",
        "outputId": "228f4a9f-e993-4bcf-a14a-d7322c145b65",
        "colab": {
          "base_uri": "https://localhost:8080/",
          "height": 34
        }
      },
      "source": [
        "#Find predictions and RMSE\n",
        "predictions = model.predict(x_test) \n",
        "predictions = scaler.inverse_transform(predictions)\n",
        "rmse=np.sqrt(np.mean(((predictions- y_test)**2)))\n",
        "rmse"
      ],
      "execution_count": 30,
      "outputs": [
        {
          "output_type": "execute_result",
          "data": {
            "text/plain": [
              "11.17272464687043"
            ]
          },
          "metadata": {
            "tags": []
          },
          "execution_count": 30
        }
      ]
    },
    {
      "cell_type": "code",
      "metadata": {
        "id": "s5-DTWVvwGxT",
        "colab_type": "code",
        "outputId": "711f4c60-95dd-402d-f3fa-bd39b7b98e5e",
        "colab": {
          "base_uri": "https://localhost:8080/",
          "height": 526
        }
      },
      "source": [
        "#Plot the graph of actual vs predicted values\n",
        "train = aapl_close[:training_data_len]\n",
        "valid = aapl_close[training_data_len:]\n",
        "valid['Predictions'] = predictions\n",
        "plt.figure(figsize=(13,6))\n",
        "plt.title('LSTM Prediction')\n",
        "plt.xlabel('Date')\n",
        "plt.ylabel('Close Price')\n",
        "plt.plot(train)\n",
        "plt.plot(valid[['Close', 'Predictions']])\n",
        "plt.legend(['Train', 'Actual', 'Predicted'], loc='lower right')\n",
        "plt.show()"
      ],
      "execution_count": 31,
      "outputs": [
        {
          "output_type": "stream",
          "text": [
            "/usr/local/lib/python3.6/dist-packages/ipykernel_launcher.py:3: SettingWithCopyWarning: \n",
            "A value is trying to be set on a copy of a slice from a DataFrame.\n",
            "Try using .loc[row_indexer,col_indexer] = value instead\n",
            "\n",
            "See the caveats in the documentation: https://pandas.pydata.org/pandas-docs/stable/user_guide/indexing.html#returning-a-view-versus-a-copy\n",
            "  This is separate from the ipykernel package so we can avoid doing imports until\n"
          ],
          "name": "stderr"
        },
        {
          "output_type": "display_data",
          "data": {
            "image/png": "[encoded data removed]",
            "text/plain": [
              "<Figure size 936x432 with 1 Axes>"
            ]
          },
          "metadata": {
            "tags": [],
            "needs_background": "light"
          }
        }
      ]
    },
    {
      "cell_type": "markdown",
      "metadata": {
        "id": "TCWdQnbnMU3J",
        "colab_type": "text"
      },
      "source": [
        "##Summary: analyzing multiple stocks"
      ]
    },
    {
      "cell_type": "markdown",
      "metadata": {
        "id": "Xb31-WqASQE-",
        "colab_type": "text"
      },
      "source": [
        "I created a function to scrape wikipedia data to get the tickers of all S&P500 companies using BeautifulSoup. Then, define function for Linear and Random Forest Regression and use those to create summary_df to compare the result of the two regressions. We can see that in general, linear regression performs better. The main reason might be that random forest is not equipped for analyzing data outside the training range."
      ]
    },
    {
      "cell_type": "code",
      "metadata": {
        "id": "4X7t6xw6SNVS",
        "colab_type": "code",
        "colab": {}
      },
      "source": [
        "def find_sp500_tickers():\n",
        "    resp = requests.get('http://en.wikipedia.org/wiki/List_of_S%26P_500_companies')\n",
        "    soup = bs.BeautifulSoup(resp.text, 'lxml')\n",
        "    table = soup.find('table', {'class': 'wikitable sortable'})\n",
        "    tickers = []\n",
        "    for row in table.findAll('tr')[1:]:\n",
        "        t = row.findAll('td')[0].text\n",
        "        tickers.append(t.split('\\n')[0])\n",
        "        \n",
        "    return tickers"
      ],
      "execution_count": 0,
      "outputs": []
    },
    {
      "cell_type": "code",
      "metadata": {
        "id": "SdFWZGfFMZyP",
        "colab_type": "code",
        "colab": {}
      },
      "source": [
        "sp_tickers = find_sp500_tickers()"
      ],
      "execution_count": 0,
      "outputs": []
    },
    {
      "cell_type": "code",
      "metadata": {
        "id": "_MJup5-eUJQ9",
        "colab_type": "code",
        "colab": {}
      },
      "source": [
        "# pick random 50 companies to use for comparison\n",
        "random.seed(40)\n",
        "r_tickers = random.sample(sp_tickers, 50)"
      ],
      "execution_count": 0,
      "outputs": []
    },
    {
      "cell_type": "code",
      "metadata": {
        "id": "zQBTDHSvM0YS",
        "colab_type": "code",
        "colab": {}
      },
      "source": [
        "start_date = '2015-01-10'\n",
        "end_date = '2020-01-10'\n",
        "training_data_len = math.ceil(len(aapl_data)*.8) "
      ],
      "execution_count": 0,
      "outputs": []
    },
    {
      "cell_type": "code",
      "metadata": {
        "id": "P4SLAbovNpFT",
        "colab_type": "code",
        "colab": {}
      },
      "source": [
        "def linearreg(x_train, y_train, x_test, y_test):\n",
        "  lin_reg = LinearRegression()\n",
        "  lin_reg.fit(x_train, y_train)\n",
        "  score = lin_reg.score(x_test, y_test)\n",
        "  y_predict = lin_reg.predict(x_test)\n",
        "  lin_reg_mse = mean_squared_error(y_predict, y_test)\n",
        "  rmse = math.sqrt(lin_reg_mse)\n",
        "  return score, rmse"
      ],
      "execution_count": 0,
      "outputs": []
    },
    {
      "cell_type": "code",
      "metadata": {
        "id": "mK6AdIpTNseC",
        "colab_type": "code",
        "colab": {}
      },
      "source": [
        "def rfreg(x_train, y_train, x_test, y_test):\n",
        "  rfr = RandomForestRegressor(random_state=12, n_estimators=10, max_depth = 8) \n",
        "  rfr.fit(x_train, y_train)\n",
        "  score = rfr.score(x_test, y_test)\n",
        "  y_predict = rfr.predict(x_test)\n",
        "  rmse = math.sqrt(mean_squared_error(y_predict, y_test))\n",
        "  return score, rmse"
      ],
      "execution_count": 0,
      "outputs": []
    },
    {
      "cell_type": "code",
      "metadata": {
        "id": "UhH7WDLzNavE",
        "colab_type": "code",
        "colab": {}
      },
      "source": [
        "def create_summary(tickers):\n",
        "  rows_list = []\n",
        "  for ticker in tickers:\n",
        "    stock = pdr.DataReader(ticker, data_source='yahoo', start = start_date, end = end_date)\n",
        "    stock_close = stock.filter(['Close'])\n",
        "    stock_data = stock_close.values\n",
        "    train_data = stock_data[0:training_data_len, : ]\n",
        "    x_train=[]\n",
        "    y_train = []\n",
        "    for i in range(60,len(train_data)):\n",
        "      x_train.append(train_data[i-60:i,0])\n",
        "      y_train.append(train_data[i,0])\n",
        "\n",
        "    test_data = stock_data[training_data_len - 60: , : ]\n",
        "    x_test = []\n",
        "    y_test =  []\n",
        "    for i in range(60,len(test_data)):\n",
        "      x_test.append(test_data[i-60:i,0])\n",
        "      y_test.append(test_data[i,0])\n",
        "    x_train, y_train = np.array(x_train), np.array(y_train)\n",
        "    x_test, y_test = np.array(x_test), np.array(y_test)\n",
        "\n",
        "    dict1 = {}\n",
        "    lr_score, lr_rmse = linearreg(x_train, y_train, x_test, y_test)\n",
        "    rf_score, rf_rmse = rfreg(x_train, y_train, x_test, y_test)\n",
        "    dict1['stock'] = ticker\n",
        "    dict1['LinearRegScore'] = lr_score\n",
        "    dict1['LinearRegRMSE'] = lr_rmse\n",
        "    dict1['RandomForestScore'] = rf_score\n",
        "    dict1['RandomForestRMSE'] = rf_rmse\n",
        "    rows_list.append(dict1)\n",
        "\n",
        "  return rows_list"
      ],
      "execution_count": 0,
      "outputs": []
    },
    {
      "cell_type": "code",
      "metadata": {
        "id": "ZuoM37_LV15M",
        "colab_type": "code",
        "colab": {}
      },
      "source": [
        "# remove the tickers that gave errors as there is not enough data\n",
        "r_tickers.remove(\"OTIS\")\n",
        "r_tickers.remove('CARR')"
      ],
      "execution_count": 0,
      "outputs": []
    },
    {
      "cell_type": "code",
      "metadata": {
        "id": "GLlDWnQ5Qc8L",
        "colab_type": "code",
        "colab": {}
      },
      "source": [
        "# Takes a long time\n",
        "summary = create_summary(r_tickers)"
      ],
      "execution_count": 0,
      "outputs": []
    },
    {
      "cell_type": "code",
      "metadata": {
        "id": "C-j__TkySVhx",
        "colab_type": "code",
        "colab": {}
      },
      "source": [
        "summary_df = pd.DataFrame(summary)"
      ],
      "execution_count": 0,
      "outputs": []
    },
    {
      "cell_type": "code",
      "metadata": {
        "id": "tGUH66E4W1bY",
        "colab_type": "code",
        "outputId": "ffdd242e-7bbe-499b-ce6a-c86862d0cd9a",
        "colab": {
          "base_uri": "https://localhost:8080/",
          "height": 204
        }
      },
      "source": [
        "summary_df.head()"
      ],
      "execution_count": 54,
      "outputs": [
        {
          "output_type": "execute_result",
          "data": {
            "text/html": [
              "<div>\n",
              "<style scoped>\n",
              "    .dataframe tbody tr th:only-of-type {\n",
              "        vertical-align: middle;\n",
              "    }\n",
              "\n",
              "    .dataframe tbody tr th {\n",
              "        vertical-align: top;\n",
              "    }\n",
              "\n",
              "    .dataframe thead th {\n",
              "        text-align: right;\n",
              "    }\n",
              "</style>\n",
              "<table border=\"1\" class=\"dataframe\">\n",
              "  <thead>\n",
              "    <tr style=\"text-align: right;\">\n",
              "      <th></th>\n",
              "      <th>stock</th>\n",
              "      <th>LinearRegScore</th>\n",
              "      <th>LinearRegRMSE</th>\n",
              "      <th>RandomForestScore</th>\n",
              "      <th>RandomForestRMSE</th>\n",
              "    </tr>\n",
              "  </thead>\n",
              "  <tbody>\n",
              "    <tr>\n",
              "      <th>0</th>\n",
              "      <td>HFC</td>\n",
              "      <td>0.949189</td>\n",
              "      <td>1.014729</td>\n",
              "      <td>0.933848</td>\n",
              "      <td>1.157827</td>\n",
              "    </tr>\n",
              "    <tr>\n",
              "      <th>1</th>\n",
              "      <td>LKQ</td>\n",
              "      <td>0.980041</td>\n",
              "      <td>0.498055</td>\n",
              "      <td>0.962609</td>\n",
              "      <td>0.681692</td>\n",
              "    </tr>\n",
              "    <tr>\n",
              "      <th>2</th>\n",
              "      <td>TDG</td>\n",
              "      <td>0.978018</td>\n",
              "      <td>8.272288</td>\n",
              "      <td>-5.303245</td>\n",
              "      <td>140.079462</td>\n",
              "    </tr>\n",
              "    <tr>\n",
              "      <th>3</th>\n",
              "      <td>JNJ</td>\n",
              "      <td>0.909834</td>\n",
              "      <td>1.499712</td>\n",
              "      <td>0.900462</td>\n",
              "      <td>1.575727</td>\n",
              "    </tr>\n",
              "    <tr>\n",
              "      <th>4</th>\n",
              "      <td>ARE</td>\n",
              "      <td>0.975040</td>\n",
              "      <td>1.488978</td>\n",
              "      <td>-3.578099</td>\n",
              "      <td>20.165586</td>\n",
              "    </tr>\n",
              "  </tbody>\n",
              "</table>\n",
              "</div>"
            ],
            "text/plain": [
              "  stock  LinearRegScore  LinearRegRMSE  RandomForestScore  RandomForestRMSE\n",
              "0   HFC        0.949189       1.014729           0.933848          1.157827\n",
              "1   LKQ        0.980041       0.498055           0.962609          0.681692\n",
              "2   TDG        0.978018       8.272288          -5.303245        140.079462\n",
              "3   JNJ        0.909834       1.499712           0.900462          1.575727\n",
              "4   ARE        0.975040       1.488978          -3.578099         20.165586"
            ]
          },
          "metadata": {
            "tags": []
          },
          "execution_count": 54
        }
      ]
    },
    {
      "cell_type": "code",
      "metadata": {
        "id": "wXYENIlEXLZ0",
        "colab_type": "code",
        "outputId": "5144c773-b145-4a57-92c1-f12b611518b3",
        "colab": {
          "base_uri": "https://localhost:8080/",
          "height": 545
        }
      },
      "source": [
        "plt.plot(summary_df['LinearRegScore'])\n",
        "plt.plot(summary_df['RandomForestScore'])\n",
        "plt.title(\"Score Comparison Plot\")\n",
        "plt.legend(['Linear Reg', 'Random Forest'], loc='upper right')\n",
        "plt.show()\n",
        "plt.plot(summary_df['LinearRegRMSE'])\n",
        "plt.plot(summary_df['RandomForestRMSE'])\n",
        "plt.title(\"RMSE Comparison Plot\")\n",
        "plt.legend(['Linear Reg', 'Random Forest'], loc='upper right')\n",
        "plt.show()"
      ],
      "execution_count": 55,
      "outputs": [
        {
          "output_type": "display_data",
          "data": {
            "image/png": "[encoded data removed]",
            "text/plain": [
              "<Figure size 432x288 with 1 Axes>"
            ]
          },
          "metadata": {
            "tags": [],
            "needs_background": "light"
          }
        },
        {
          "output_type": "display_data",
          "data": {
            "image/png": "[encoded data removed]",
            "text/plain": [
              "<Figure size 432x288 with 1 Axes>"
            ]
          },
          "metadata": {
            "tags": [],
            "needs_background": "light"
          }
        }
      ]
    },
    {
      "cell_type": "markdown",
      "metadata": {
        "id": "xkc_MQ4ZN_c4",
        "colab_type": "text"
      },
      "source": [
        "## Extra: Time Series with Prophet"
      ]
    },
    {
      "cell_type": "markdown",
      "metadata": {
        "id": "lRM40GbhT3uj",
        "colab_type": "text"
      },
      "source": [
        "Since there is a lot of autocorrelation in the close price data, I thought it would be interesting to see the time series prediction. I used Prophet for time series prediction. The result was very different from what I found above, and also this needs more tuning. Still, the trend is going up, similar to the actual data."
      ]
    },
    {
      "cell_type": "code",
      "metadata": {
        "id": "Beh9O7ZkIxA3",
        "colab_type": "code",
        "colab": {}
      },
      "source": [
        "# Rerun this after transformation to get the original data\n",
        "start_date = '2015-01-10'\n",
        "end_date = '2020-01-10'\n",
        "aapl_stock = pdr.DataReader('AAPL', data_source='yahoo', start = start_date, end = end_date)"
      ],
      "execution_count": 0,
      "outputs": []
    },
    {
      "cell_type": "code",
      "metadata": {
        "id": "vlbTfpLHIaKA",
        "colab_type": "code",
        "outputId": "e241d4a7-531f-41be-f13b-169dea5c3e3e",
        "colab": {
          "base_uri": "https://localhost:8080/",
          "height": 286
        }
      },
      "source": [
        "aapl_stock['Adj Close'].plot()"
      ],
      "execution_count": 57,
      "outputs": [
        {
          "output_type": "execute_result",
          "data": {
            "text/plain": [
              "<matplotlib.axes._subplots.AxesSubplot at 0x7fab376b8320>"
            ]
          },
          "metadata": {
            "tags": []
          },
          "execution_count": 57
        },
        {
          "output_type": "display_data",
          "data": {
            "image/png": "[encoded data removed]",
            "text/plain": [
              "<Figure size 432x288 with 1 Axes>"
            ]
          },
          "metadata": {
            "tags": [],
            "needs_background": "light"
          }
        }
      ]
    },
    {
      "cell_type": "code",
      "metadata": {
        "id": "BaeP36wCI9Z5",
        "colab_type": "code",
        "colab": {}
      },
      "source": [
        "aapl_stock = aapl_stock.reset_index().rename(columns={'Date':'ds', 'Adj Close':'y'})"
      ],
      "execution_count": 0,
      "outputs": []
    },
    {
      "cell_type": "code",
      "metadata": {
        "id": "11BlQaPoJFFL",
        "colab_type": "code",
        "outputId": "f6dabd34-db01-4f87-caa0-42a3f9701dd5",
        "colab": {
          "base_uri": "https://localhost:8080/",
          "height": 279
        }
      },
      "source": [
        "# Log Transform Data\n",
        "aapl_stock['y'] = pd.DataFrame(np.log(aapl_stock['y']))\n",
        "\n",
        "# plot data\n",
        "plt.plot(aapl_stock['y'])\n",
        "plt.ylabel('Price')\n",
        "plt.xlabel('Day')\n",
        "plt.show()"
      ],
      "execution_count": 59,
      "outputs": [
        {
          "output_type": "display_data",
          "data": {
            "image/png": "[encoded data removed]",
            "text/plain": [
              "<Figure size 432x288 with 1 Axes>"
            ]
          },
          "metadata": {
            "tags": [],
            "needs_background": "light"
          }
        }
      ]
    },
    {
      "cell_type": "code",
      "metadata": {
        "id": "YwvJcEERJq7V",
        "colab_type": "code",
        "colab": {}
      },
      "source": [
        "training_data_len = math.ceil(len(aapl_stock) *.90) \n",
        "df_train = aapl_stock[:training_data_len]\n",
        "df_test = aapl_stock[training_data_len:]"
      ],
      "execution_count": 0,
      "outputs": []
    },
    {
      "cell_type": "code",
      "metadata": {
        "id": "kgsO7U0qJ3Xj",
        "colab_type": "code",
        "colab": {
          "base_uri": "https://localhost:8080/",
          "height": 34
        },
        "outputId": "721918ac-bbfa-4713-98f0-30a3dc479585"
      },
      "source": [
        "from fbprophet import Prophet\n",
        "\n",
        "pmodel = Prophet(interval_width=0.95, daily_seasonality=True)\n",
        "pmodel.fit(df_train)\n",
        "future = pmodel.make_future_dataframe(periods=125, freq='MS')"
      ],
      "execution_count": 61,
      "outputs": [
        {
          "output_type": "stream",
          "text": [
            "INFO:numexpr.utils:NumExpr defaulting to 2 threads.\n"
          ],
          "name": "stderr"
        }
      ]
    },
    {
      "cell_type": "code",
      "metadata": {
        "id": "5M7dGeyTJwfz",
        "colab_type": "code",
        "colab": {}
      },
      "source": [
        "forecast = pmodel.predict(future)"
      ],
      "execution_count": 0,
      "outputs": []
    },
    {
      "cell_type": "code",
      "metadata": {
        "id": "f3iRSHXmKWi0",
        "colab_type": "code",
        "outputId": "5f98f36a-6208-491f-d688-2f8d3070af07",
        "colab": {
          "base_uri": "https://localhost:8080/",
          "height": 34
        }
      },
      "source": [
        "# retransform using e\n",
        "y_hat = np.exp(forecast['yhat'][training_data_len:])\n",
        "y_true = np.exp(aapl_stock['y'])\n",
        " \n",
        "# compute the mean square error\n",
        "rmse = math.sqrt(((y_hat - y_true) ** 2).mean())\n",
        "rmse"
      ],
      "execution_count": 63,
      "outputs": [
        {
          "output_type": "execute_result",
          "data": {
            "text/plain": [
              "55.821544603260705"
            ]
          },
          "metadata": {
            "tags": []
          },
          "execution_count": 63
        }
      ]
    },
    {
      "cell_type": "code",
      "metadata": {
        "id": "Kbq-0iNrKjK6",
        "colab_type": "code",
        "outputId": "2dd36e1f-f972-4386-d3be-3226d98f58dc",
        "colab": {
          "base_uri": "https://localhost:8080/",
          "height": 279
        }
      },
      "source": [
        "plt.plot(y_true, label='Original');\n",
        "plt.plot(y_hat, color='r', label='Forecast');\n",
        "plt.ylabel('Price');\n",
        "plt.xlabel('Date');\n",
        "plt.show()"
      ],
      "execution_count": 64,
      "outputs": [
        {
          "output_type": "display_data",
          "data": {
            "image/png": "[encoded data removed]",
            "text/plain": [
              "<Figure size 432x288 with 1 Axes>"
            ]
          },
          "metadata": {
            "tags": [],
            "needs_background": "light"
          }
        }
      ]
    },
    {
      "cell_type": "markdown",
      "metadata": {
        "id": "Q6DD1V_0yoT6",
        "colab_type": "text"
      },
      "source": [
        "#Part 2: Fundamental Analysis"
      ]
    },
    {
      "cell_type": "markdown",
      "metadata": {
        "id": "Oqn9gm9M12Xe",
        "colab_type": "text"
      },
      "source": [
        "**Warning**: the regression models do not give out useful results. The classification models give considerably accurate results when given high threshold value, but the \n",
        "true positive rate is very low (not much better than random). Although the findings might not be applicable for now, I chose to this part for the project because I believe this can lead to effective modifications or further research.\n",
        "\n",
        "In this part of the project, I first get the quarterly fundamental data, such as PE ratio, Market cap, etc. of each stock in the S&P using the package \n",
        "[FundamentalAnalysis](https://pypi.org/project/FundamentalAnalysis/). Then, I merge this table with the table about the price change from this quarter to the next in comparison to the change in the S&P500 index. That is, I intended to use the fundamental data to predict the outperformance of each stock."
      ]
    },
    {
      "cell_type": "markdown",
      "metadata": {
        "id": "0utLHzNT44_C",
        "colab_type": "text"
      },
      "source": [
        "## Data Setup"
      ]
    },
    {
      "cell_type": "code",
      "metadata": {
        "id": "GWUt5KeS16Mt",
        "colab_type": "code",
        "colab": {}
      },
      "source": [
        "sp_tickers = find_sp500_tickers()"
      ],
      "execution_count": 0,
      "outputs": []
    },
    {
      "cell_type": "code",
      "metadata": {
        "id": "_C5B6Ovd18sD",
        "colab_type": "code",
        "colab": {}
      },
      "source": [
        "# remove all the tickers that cause problem when calling get_fundamentals\n",
        "tickers_all = sp_tickers\n",
        "tickers_all.remove('CARR')\n",
        "tickers_all.remove('J')\n",
        "tickers_all.remove('OTIS')\n",
        "tickers_all.remove('TFC')\n",
        "tickers_all.remove('BRK.B')\n",
        "tickers_all.remove('BF.B')"
      ],
      "execution_count": 0,
      "outputs": []
    },
    {
      "cell_type": "code",
      "metadata": {
        "id": "ckuYWvFz2Bgf",
        "colab_type": "code",
        "colab": {}
      },
      "source": [
        "fundamentals = ['Market Cap', 'PE ratio', \n",
        "       'Enterprise Value over EBITDA', 'Earnings Yield', \n",
        "       'Debt to Equity', 'Net Debt to EBITDA',\n",
        "       'Current ratio', 'Income Quality','Dividend Yield', 'Payout Ratio', \n",
        "       'SG&A to Revenue', 'R&D to Revenue', 'Capex to Revenue',\n",
        "       'Stock-based compensation to Revenue', 'Working Capital',\n",
        "       'Net Current Asset Value']"
      ],
      "execution_count": 0,
      "outputs": []
    },
    {
      "cell_type": "code",
      "metadata": {
        "id": "gGCmpxN22FNs",
        "colab_type": "code",
        "colab": {}
      },
      "source": [
        "def get_fundamentals(tickers_all):\n",
        "  for ticker in tickers_all:\n",
        "    metrics_df = fa.key_metrics(ticker, period=\"quarter\")\n",
        "    metrics_dft = metrics_df.T\n",
        "    metrics_fea = metrics_dft[fundamentals]\n",
        "    funda_df = metrics_fea.reset_index()\n",
        "    funda_df['index'] = pd.to_datetime(funda_df['index']) \n",
        "    funda_df.rename(columns={'index':'date'}, inplace =True)\n",
        "    funda_df['ticker'] = ticker\n",
        "    funda_df.dropna(axis=0, inplace=True)\n",
        "    if (ticker == tickers_all[0]):\n",
        "      funda_total = funda_df\n",
        "    else:\n",
        "      funda_total = funda_total.append(funda_df, ignore_index = True)\n",
        "  \n",
        "  colname = list(funda_total)\n",
        "  colname.remove('ticker')\n",
        "  colname.remove('date')\n",
        "\n",
        "  funda_total[colname] = funda_total[colname].apply(pd.to_numeric, errors= 'coerce')\n",
        "  return funda_total"
      ],
      "execution_count": 0,
      "outputs": []
    },
    {
      "cell_type": "code",
      "metadata": {
        "id": "ntnW8kZw2GHx",
        "colab_type": "code",
        "colab": {}
      },
      "source": [
        "# This takes quite a long time\n",
        "funda_to_merge = get_fundamentals(tickers_all)\n",
        "#funda_to_merge.to_csv('fundamental_stock_data.csv') "
      ],
      "execution_count": 0,
      "outputs": []
    },
    {
      "cell_type": "code",
      "metadata": {
        "id": "tH2PBU6J2TQU",
        "colab_type": "code",
        "colab": {}
      },
      "source": [
        "# Or we can load from saved file\n",
        "# funda_to_merge = pd.read_csv('fundamental_stock_data.csv', index_col=0)"
      ],
      "execution_count": 0,
      "outputs": []
    },
    {
      "cell_type": "code",
      "metadata": {
        "id": "bNwQ_DA-3OFe",
        "colab_type": "code",
        "colab": {}
      },
      "source": [
        "#get SP500 return for each quarter\n",
        "sp_df = fa.stock_data('^GSPC', start=\"2010-03-01\", end=\"2019-12-02\", interval = \"3mo\")\n",
        "sp_df = sp_df.reset_index()\n",
        "sp_df['index'] = pd.to_datetime(sp_df['index'])\n",
        "sp_df.rename(columns={'index':'date'}, inplace =True)\n",
        "sp_df['close2'] = sp_df['close'].shift(-1)\n",
        "sp_df['sp500change'] = (sp_df['close2']-sp_df['close'])*100/sp_df['close']\n",
        "sp_df = sp_df[['date','sp500change']]"
      ],
      "execution_count": 0,
      "outputs": []
    },
    {
      "cell_type": "code",
      "metadata": {
        "id": "0NkyIHXZ3bHa",
        "colab_type": "code",
        "colab": {}
      },
      "source": [
        "#create price_to_merge which is a dataframe of each stock return in each quarter\n",
        "for ticker in tickers_all:\n",
        "  qprice = fa.stock_data(ticker, start=\"2010-03-01\", end=\"2019-12-02\", interval = \"3mo\")\n",
        "  qprice = qprice.reset_index()\n",
        "  qprice = qprice[['index','close']]\n",
        "  qprice['index'] = pd.to_datetime(qprice['index'])\n",
        "  qprice.rename(columns={'index':'date'}, inplace =True)\n",
        "  qprice['close2'] = qprice['close'].shift(-1)\n",
        "  qprice['price change'] = (qprice['close2']-qprice['close'])*100/qprice['close']\n",
        "  qprice['ticker'] = ticker\n",
        "  if (ticker == tickers_all[0]):\n",
        "    price_to_merge = qprice\n",
        "  else:\n",
        "    price_to_merge = price_to_merge.append(qprice, ignore_index = True)"
      ],
      "execution_count": 0,
      "outputs": []
    },
    {
      "cell_type": "code",
      "metadata": {
        "id": "YMnieRp23gmv",
        "colab_type": "code",
        "colab": {}
      },
      "source": [
        "# merging price_to_merge with the sp500 return of that quarter\n",
        "price_sp_merged = price_to_merge.merge(sp_df, how='left', on = 'date')"
      ],
      "execution_count": 0,
      "outputs": []
    },
    {
      "cell_type": "code",
      "metadata": {
        "id": "0Q8FTWii3i0J",
        "colab_type": "code",
        "colab": {}
      },
      "source": [
        "price_sp_merged['outperform_percent'] = price_sp_merged['price change'] - price_sp_merged['sp500change']\n",
        "#price_sp_merged.to_csv('price_stock_data.csv') "
      ],
      "execution_count": 0,
      "outputs": []
    },
    {
      "cell_type": "code",
      "metadata": {
        "id": "s1pZjUZP3q-1",
        "colab_type": "code",
        "colab": {}
      },
      "source": [
        "# It takes a long time to create price_to_merge\n",
        "# So, this cell is for loading from saved file\n",
        "# price_sp_merged = pd.read_csv('price_stock_data.csv', index_col=0)"
      ],
      "execution_count": 0,
      "outputs": []
    },
    {
      "cell_type": "code",
      "metadata": {
        "id": "RIp8IwuL4FfY",
        "colab_type": "code",
        "colab": {}
      },
      "source": [
        "#merging fundamentals and price with sp500 dataframes BIG\n",
        "merged_df = funda_to_merge.merge(price_sp_merged, left_on = ['date','ticker'], right_on=['date','ticker'])\n",
        "merged_df.dropna(axis=0, inplace=True)"
      ],
      "execution_count": 0,
      "outputs": []
    },
    {
      "cell_type": "code",
      "metadata": {
        "id": "YzF01-rW4tMg",
        "colab_type": "code",
        "colab": {}
      },
      "source": [
        "#delete rows with extreme values\n",
        "merged_df = merged_df[merged_df['outperform_percent']<40]\n",
        "merged_df = merged_df[merged_df['outperform_percent']>-40]"
      ],
      "execution_count": 0,
      "outputs": []
    },
    {
      "cell_type": "code",
      "metadata": {
        "id": "zCxjeImvrmBk",
        "colab_type": "code",
        "colab": {
          "base_uri": "https://localhost:8080/",
          "height": 343
        },
        "outputId": "cb20c481-6c37-4121-b1be-997729a27c88"
      },
      "source": [
        "merged_df.head()"
      ],
      "execution_count": 255,
      "outputs": [
        {
          "output_type": "execute_result",
          "data": {
            "text/html": [
              "<div>\n",
              "<style scoped>\n",
              "    .dataframe tbody tr th:only-of-type {\n",
              "        vertical-align: middle;\n",
              "    }\n",
              "\n",
              "    .dataframe tbody tr th {\n",
              "        vertical-align: top;\n",
              "    }\n",
              "\n",
              "    .dataframe thead th {\n",
              "        text-align: right;\n",
              "    }\n",
              "</style>\n",
              "<table border=\"1\" class=\"dataframe\">\n",
              "  <thead>\n",
              "    <tr style=\"text-align: right;\">\n",
              "      <th></th>\n",
              "      <th>date</th>\n",
              "      <th>Market Cap</th>\n",
              "      <th>PE ratio</th>\n",
              "      <th>Enterprise Value over EBITDA</th>\n",
              "      <th>Earnings Yield</th>\n",
              "      <th>Debt to Equity</th>\n",
              "      <th>Net Debt to EBITDA</th>\n",
              "      <th>Current ratio</th>\n",
              "      <th>Income Quality</th>\n",
              "      <th>Dividend Yield</th>\n",
              "      <th>Payout Ratio</th>\n",
              "      <th>SG&amp;A to Revenue</th>\n",
              "      <th>R&amp;D to Revenue</th>\n",
              "      <th>Capex to Revenue</th>\n",
              "      <th>Stock-based compensation to Revenue</th>\n",
              "      <th>Working Capital</th>\n",
              "      <th>Net Current Asset Value</th>\n",
              "      <th>ticker</th>\n",
              "      <th>close</th>\n",
              "      <th>close2</th>\n",
              "      <th>price change</th>\n",
              "      <th>sp500change</th>\n",
              "      <th>outperform_percent</th>\n",
              "    </tr>\n",
              "  </thead>\n",
              "  <tbody>\n",
              "    <tr>\n",
              "      <th>2</th>\n",
              "      <td>2019-06-01</td>\n",
              "      <td>1.025991e+11</td>\n",
              "      <td>91.037345</td>\n",
              "      <td>55.298887</td>\n",
              "      <td>0.010985</td>\n",
              "      <td>2.864822</td>\n",
              "      <td>5.924928</td>\n",
              "      <td>1.934067</td>\n",
              "      <td>1.474712</td>\n",
              "      <td>0.008090</td>\n",
              "      <td>0.736469</td>\n",
              "      <td>0.206339</td>\n",
              "      <td>0.206339</td>\n",
              "      <td>19.408551</td>\n",
              "      <td>0.006364</td>\n",
              "      <td>6.786000e+09</td>\n",
              "      <td>-1.483500e+10</td>\n",
              "      <td>MMM</td>\n",
              "      <td>161.720001</td>\n",
              "      <td>169.770004</td>\n",
              "      <td>4.977741</td>\n",
              "      <td>7.330359</td>\n",
              "      <td>-2.352618</td>\n",
              "    </tr>\n",
              "    <tr>\n",
              "      <th>3</th>\n",
              "      <td>2019-03-01</td>\n",
              "      <td>1.094420e+11</td>\n",
              "      <td>122.830556</td>\n",
              "      <td>80.965602</td>\n",
              "      <td>0.008141</td>\n",
              "      <td>3.033804</td>\n",
              "      <td>8.535407</td>\n",
              "      <td>2.017404</td>\n",
              "      <td>1.176207</td>\n",
              "      <td>0.007584</td>\n",
              "      <td>0.931538</td>\n",
              "      <td>0.247743</td>\n",
              "      <td>0.247743</td>\n",
              "      <td>20.109974</td>\n",
              "      <td>0.016533</td>\n",
              "      <td>7.249000e+09</td>\n",
              "      <td>-1.506300e+10</td>\n",
              "      <td>MMM</td>\n",
              "      <td>159.750000</td>\n",
              "      <td>161.720001</td>\n",
              "      <td>1.233178</td>\n",
              "      <td>6.337067</td>\n",
              "      <td>-5.103890</td>\n",
              "    </tr>\n",
              "    <tr>\n",
              "      <th>4</th>\n",
              "      <td>2018-12-01</td>\n",
              "      <td>1.172704e+11</td>\n",
              "      <td>87.060427</td>\n",
              "      <td>59.906869</td>\n",
              "      <td>0.011486</td>\n",
              "      <td>2.726011</td>\n",
              "      <td>5.463788</td>\n",
              "      <td>1.892463</td>\n",
              "      <td>1.676318</td>\n",
              "      <td>0.006711</td>\n",
              "      <td>0.584261</td>\n",
              "      <td>0.211705</td>\n",
              "      <td>0.211705</td>\n",
              "      <td>14.962335</td>\n",
              "      <td>0.005538</td>\n",
              "      <td>6.465000e+09</td>\n",
              "      <td>-1.299500e+10</td>\n",
              "      <td>MMM</td>\n",
              "      <td>207.389999</td>\n",
              "      <td>159.750000</td>\n",
              "      <td>-22.971213</td>\n",
              "      <td>-1.164663</td>\n",
              "      <td>-21.806550</td>\n",
              "    </tr>\n",
              "    <tr>\n",
              "      <th>5</th>\n",
              "      <td>2018-09-01</td>\n",
              "      <td>1.121967e+11</td>\n",
              "      <td>72.713345</td>\n",
              "      <td>52.238588</td>\n",
              "      <td>0.013753</td>\n",
              "      <td>2.637295</td>\n",
              "      <td>4.918178</td>\n",
              "      <td>1.965513</td>\n",
              "      <td>1.386261</td>\n",
              "      <td>0.007077</td>\n",
              "      <td>0.514582</td>\n",
              "      <td>0.189769</td>\n",
              "      <td>0.189769</td>\n",
              "      <td>21.623342</td>\n",
              "      <td>0.006133</td>\n",
              "      <td>7.083000e+09</td>\n",
              "      <td>-1.260800e+10</td>\n",
              "      <td>MMM</td>\n",
              "      <td>207.919998</td>\n",
              "      <td>207.389999</td>\n",
              "      <td>-0.254905</td>\n",
              "      <td>0.881108</td>\n",
              "      <td>-1.136013</td>\n",
              "    </tr>\n",
              "    <tr>\n",
              "      <th>6</th>\n",
              "      <td>2018-06-01</td>\n",
              "      <td>1.218003e+11</td>\n",
              "      <td>65.589799</td>\n",
              "      <td>48.010880</td>\n",
              "      <td>0.015246</td>\n",
              "      <td>2.548288</td>\n",
              "      <td>4.213592</td>\n",
              "      <td>1.560324</td>\n",
              "      <td>1.022617</td>\n",
              "      <td>0.006585</td>\n",
              "      <td>0.431879</td>\n",
              "      <td>0.214541</td>\n",
              "      <td>0.214541</td>\n",
              "      <td>22.986301</td>\n",
              "      <td>0.005840</td>\n",
              "      <td>4.988000e+09</td>\n",
              "      <td>-1.252300e+10</td>\n",
              "      <td>MMM</td>\n",
              "      <td>210.919998</td>\n",
              "      <td>207.919998</td>\n",
              "      <td>-1.422340</td>\n",
              "      <td>-4.871588</td>\n",
              "      <td>3.449248</td>\n",
              "    </tr>\n",
              "  </tbody>\n",
              "</table>\n",
              "</div>"
            ],
            "text/plain": [
              "        date    Market Cap  ...  sp500change  outperform_percent\n",
              "2 2019-06-01  1.025991e+11  ...     7.330359           -2.352618\n",
              "3 2019-03-01  1.094420e+11  ...     6.337067           -5.103890\n",
              "4 2018-12-01  1.172704e+11  ...    -1.164663          -21.806550\n",
              "5 2018-09-01  1.121967e+11  ...     0.881108           -1.136013\n",
              "6 2018-06-01  1.218003e+11  ...    -4.871588            3.449248\n",
              "\n",
              "[5 rows x 23 columns]"
            ]
          },
          "metadata": {
            "tags": []
          },
          "execution_count": 255
        }
      ]
    },
    {
      "cell_type": "markdown",
      "metadata": {
        "id": "t3hh8cVx-r2a",
        "colab_type": "text"
      },
      "source": [
        "##Regression"
      ]
    },
    {
      "cell_type": "code",
      "metadata": {
        "id": "xoArxFpH4yac",
        "colab_type": "code",
        "colab": {}
      },
      "source": [
        "from sklearn.model_selection import train_test_split\n",
        "col_notx = ['date', 'ticker','close','close2','price change','sp500change','outperform_percent']\n",
        "x_train, x_test, y_train, y_test = train_test_split(merged_df.drop(col_notx, axis=1),\n",
        "                                                    merged_df['outperform_percent'], test_size=0.2, random_state=122)"
      ],
      "execution_count": 0,
      "outputs": []
    },
    {
      "cell_type": "markdown",
      "metadata": {
        "id": "nXULjvZp5CPw",
        "colab_type": "text"
      },
      "source": [
        "### Linear Regression"
      ]
    },
    {
      "cell_type": "markdown",
      "metadata": {
        "id": "Yo75OGR-WQ7I",
        "colab_type": "text"
      },
      "source": [
        "First, I performed a simple linear regression fit. The scores are very bad. This makes sense, as when analyzing the residual plots, I could see that the data do not seem to exhibit a linear relationship. The homoscedasticity assumption is also violated, as the residuals do not seem to have equal variance. From the plots, we can see that there are many outrageous predictions."
      ]
    },
    {
      "cell_type": "code",
      "metadata": {
        "id": "3UCeWctG5KEA",
        "colab_type": "code",
        "outputId": "9359d8a4-19a4-41eb-c361-06535dd48a14",
        "colab": {
          "base_uri": "https://localhost:8080/",
          "height": 34
        }
      },
      "source": [
        "from sklearn.linear_model import LinearRegression\n",
        "\n",
        "lin_reg = LinearRegression()\n",
        "lin_reg.fit(x_train, y_train)"
      ],
      "execution_count": 257,
      "outputs": [
        {
          "output_type": "execute_result",
          "data": {
            "text/plain": [
              "LinearRegression(copy_X=True, fit_intercept=True, n_jobs=None, normalize=False)"
            ]
          },
          "metadata": {
            "tags": []
          },
          "execution_count": 257
        }
      ]
    },
    {
      "cell_type": "code",
      "metadata": {
        "id": "3CEfw7Om5N_J",
        "colab_type": "code",
        "outputId": "b5b9308f-0428-4d06-f370-4277e0906336",
        "colab": {
          "base_uri": "https://localhost:8080/",
          "height": 51
        }
      },
      "source": [
        "print(lin_reg.score(x_train, y_train))\n",
        "print(lin_reg.score(x_test, y_test))"
      ],
      "execution_count": 258,
      "outputs": [
        {
          "output_type": "stream",
          "text": [
            "0.0017750413411428134\n",
            "-0.0022917485346303224\n"
          ],
          "name": "stdout"
        }
      ]
    },
    {
      "cell_type": "code",
      "metadata": {
        "id": "VbruNvuk5Q9B",
        "colab_type": "code",
        "outputId": "91b42c65-48d6-41d2-cf75-8d2cf14d3996",
        "colab": {
          "base_uri": "https://localhost:8080/",
          "height": 34
        }
      },
      "source": [
        "from sklearn.metrics import mean_squared_error\n",
        "\n",
        "y_predict = lin_reg.predict(x_test)\n",
        "lin_reg_mse = mean_squared_error(y_predict, y_test)\n",
        "rmse = math.sqrt(lin_reg_mse)\n",
        "rmse"
      ],
      "execution_count": 259,
      "outputs": [
        {
          "output_type": "execute_result",
          "data": {
            "text/plain": [
              "10.558045655699837"
            ]
          },
          "metadata": {
            "tags": []
          },
          "execution_count": 259
        }
      ]
    },
    {
      "cell_type": "code",
      "metadata": {
        "id": "i_PswPlv5Vfz",
        "colab_type": "code",
        "outputId": "4b4a966e-ad36-470a-d41a-c91275119513",
        "colab": {
          "base_uri": "https://localhost:8080/",
          "height": 281
        }
      },
      "source": [
        "# Plotting Residuals\n",
        "plt.scatter(lin_reg.predict(x_train), lin_reg.predict(x_train)-y_train, c='b',s=40)\n",
        "plt.scatter(lin_reg.predict(x_test), lin_reg.predict(x_test)-y_test, c='g',s=40,)\n",
        "plt.hlines(y=0,xmin=-20,xmax=20)\n",
        "plt.title(\"Residual Plots\")\n",
        "plt.legend(['Train', 'Test'], loc='lower right')\n",
        "plt.show()"
      ],
      "execution_count": 260,
      "outputs": [
        {
          "output_type": "display_data",
          "data": {
            "image/png": "[encoded data removed]",
            "text/plain": [
              "<Figure size 432x288 with 1 Axes>"
            ]
          },
          "metadata": {
            "tags": [],
            "needs_background": "light"
          }
        }
      ]
    },
    {
      "cell_type": "code",
      "metadata": {
        "id": "0Bp3W71m5lKF",
        "colab_type": "code",
        "outputId": "eee03f77-c6ef-4f8d-f735-865e3f77a5bd",
        "colab": {
          "base_uri": "https://localhost:8080/",
          "height": 295
        }
      },
      "source": [
        "plt.scatter(y_test, y_predict, c= 'g')\n",
        "plt.scatter(merged_df['outperform_percent'], merged_df['outperform_percent'], c='y')\n",
        "plt.xlabel('outperformance')\n",
        "plt.ylabel('perdicted outperformance')\n",
        "plt.title(\"Predicted vs Actual Plots\")\n",
        "plt.legend(['Test', 'Actual'], loc='lower right')\n",
        "plt.show()"
      ],
      "execution_count": 262,
      "outputs": [
        {
          "output_type": "display_data",
          "data": {
            "image/png": "[encoded data removed]",
            "text/plain": [
              "<Figure size 432x288 with 1 Axes>"
            ]
          },
          "metadata": {
            "tags": [],
            "needs_background": "light"
          }
        }
      ]
    },
    {
      "cell_type": "markdown",
      "metadata": {
        "id": "xI6S8srD7bis",
        "colab_type": "text"
      },
      "source": [
        "PCA with Linear Regression"
      ]
    },
    {
      "cell_type": "markdown",
      "metadata": {
        "id": "ledLxap7aKQt",
        "colab_type": "text"
      },
      "source": [
        "So, in order to reduce the collinearity and scale the data, I tried to do a PCA transformation. The result is still not predictive. "
      ]
    },
    {
      "cell_type": "code",
      "metadata": {
        "id": "O4hoMry87djD",
        "colab_type": "code",
        "outputId": "df970dad-2cc4-483a-e343-325c06c64e31",
        "colab": {
          "base_uri": "https://localhost:8080/",
          "height": 282
        }
      },
      "source": [
        "from sklearn.decomposition import PCA\n",
        "from sklearn.preprocessing import StandardScaler\n",
        "x_train_t = StandardScaler().fit_transform(x_train)\n",
        "x_test_t = StandardScaler().fit_transform(x_test)\n",
        "pca = PCA(n_components = 16)\n",
        "pca = pca.fit(x_train_t)\n",
        "plt.plot(np.cumsum(pca.explained_variance_ratio_))"
      ],
      "execution_count": 263,
      "outputs": [
        {
          "output_type": "execute_result",
          "data": {
            "text/plain": [
              "[<matplotlib.lines.Line2D at 0x7fab379f4978>]"
            ]
          },
          "metadata": {
            "tags": []
          },
          "execution_count": 263
        },
        {
          "output_type": "display_data",
          "data": {
            "image/png": "[encoded data removed]",
            "text/plain": [
              "<Figure size 432x288 with 1 Axes>"
            ]
          },
          "metadata": {
            "tags": [],
            "needs_background": "light"
          }
        }
      ]
    },
    {
      "cell_type": "code",
      "metadata": {
        "id": "y4aTY_vH7lnB",
        "colab_type": "code",
        "colab": {}
      },
      "source": [
        "pca = PCA(n_components=12)\n",
        "x_train = pca.fit_transform(x_train)\n",
        "x_test = pca.transform(x_test)"
      ],
      "execution_count": 0,
      "outputs": []
    },
    {
      "cell_type": "code",
      "metadata": {
        "id": "-siBnRJs7q7T",
        "colab_type": "code",
        "outputId": "664623a0-8f26-4a92-e891-065e91a82b52",
        "colab": {
          "base_uri": "https://localhost:8080/",
          "height": 34
        }
      },
      "source": [
        "lin_reg = LinearRegression()\n",
        "lin_reg.fit(x_train, y_train)"
      ],
      "execution_count": 265,
      "outputs": [
        {
          "output_type": "execute_result",
          "data": {
            "text/plain": [
              "LinearRegression(copy_X=True, fit_intercept=True, n_jobs=None, normalize=False)"
            ]
          },
          "metadata": {
            "tags": []
          },
          "execution_count": 265
        }
      ]
    },
    {
      "cell_type": "code",
      "metadata": {
        "id": "IV9fpcPA7ubk",
        "colab_type": "code",
        "outputId": "6ec81395-b2af-4ede-c869-422c320c6172",
        "colab": {
          "base_uri": "https://localhost:8080/",
          "height": 51
        }
      },
      "source": [
        "print(lin_reg.score(x_train, y_train))\n",
        "print(lin_reg.score(x_test, y_test))"
      ],
      "execution_count": 266,
      "outputs": [
        {
          "output_type": "stream",
          "text": [
            "0.0012291080020602196\n",
            "9.069147568663283e-05\n"
          ],
          "name": "stdout"
        }
      ]
    },
    {
      "cell_type": "code",
      "metadata": {
        "id": "3PDnh9wK7xal",
        "colab_type": "code",
        "outputId": "4c777c0b-e333-4c79-8cd7-30ca87599980",
        "colab": {
          "base_uri": "https://localhost:8080/",
          "height": 34
        }
      },
      "source": [
        "y_predict = lin_reg.predict(x_test)\n",
        "lin_reg_mse = mean_squared_error(y_predict, y_test)\n",
        "rmse = math.sqrt(lin_reg_mse)\n",
        "rmse"
      ],
      "execution_count": 267,
      "outputs": [
        {
          "output_type": "execute_result",
          "data": {
            "text/plain": [
              "10.545489992194815"
            ]
          },
          "metadata": {
            "tags": []
          },
          "execution_count": 267
        }
      ]
    },
    {
      "cell_type": "markdown",
      "metadata": {
        "id": "WDIlboI478J2",
        "colab_type": "text"
      },
      "source": [
        "Lasso "
      ]
    },
    {
      "cell_type": "markdown",
      "metadata": {
        "id": "BwIZQ8uNaZ3t",
        "colab_type": "text"
      },
      "source": [
        "Similarly, I tried to fit using Lasso, which also gives a bad result."
      ]
    },
    {
      "cell_type": "code",
      "metadata": {
        "id": "DRbnj-xc7-I2",
        "colab_type": "code",
        "outputId": "bd4b012b-a118-49b1-963d-c8ca0f326744",
        "colab": {
          "base_uri": "https://localhost:8080/",
          "height": 68
        }
      },
      "source": [
        "from sklearn.linear_model import Lasso\n",
        "model_lasso = Lasso(alpha=0.5)\n",
        "model_lasso.fit(x_train, y_train)"
      ],
      "execution_count": 268,
      "outputs": [
        {
          "output_type": "execute_result",
          "data": {
            "text/plain": [
              "Lasso(alpha=0.5, copy_X=True, fit_intercept=True, max_iter=1000,\n",
              "      normalize=False, positive=False, precompute=False, random_state=None,\n",
              "      selection='cyclic', tol=0.0001, warm_start=False)"
            ]
          },
          "metadata": {
            "tags": []
          },
          "execution_count": 268
        }
      ]
    },
    {
      "cell_type": "code",
      "metadata": {
        "id": "hRq_ngLk8ATm",
        "colab_type": "code",
        "outputId": "cdc9560f-031b-45cc-db53-370ebb6ebe31",
        "colab": {
          "base_uri": "https://localhost:8080/",
          "height": 85
        }
      },
      "source": [
        "print(lin_reg.score(x_train, y_train))\n",
        "print(lin_reg.score(x_test, y_test))\n",
        "\n",
        "pred_train_lasso= model_lasso.predict(x_train)\n",
        "print(np.sqrt(mean_squared_error(y_train,pred_train_lasso)))\n",
        "\n",
        "pred_test_lasso= model_lasso.predict(x_test)\n",
        "print(np.sqrt(mean_squared_error(y_test,pred_test_lasso))) "
      ],
      "execution_count": 269,
      "outputs": [
        {
          "output_type": "stream",
          "text": [
            "0.0012291080020602196\n",
            "9.069147568663283e-05\n",
            "10.5013503074467\n",
            "10.545654458974143\n"
          ],
          "name": "stdout"
        }
      ]
    },
    {
      "cell_type": "markdown",
      "metadata": {
        "id": "tGFeKD0g8aD4",
        "colab_type": "text"
      },
      "source": [
        "### Random Forest"
      ]
    },
    {
      "cell_type": "markdown",
      "metadata": {
        "id": "1ADlJxD4ajM8",
        "colab_type": "text"
      },
      "source": [
        "The Random Forest model seemed to give a reasonable fit for the training data, but is also very outrageous when used to predict the testing set."
      ]
    },
    {
      "cell_type": "code",
      "metadata": {
        "id": "6D517HIH8Yit",
        "colab_type": "code",
        "outputId": "234c41a8-c52c-4f3e-dcfb-f4e2ad3fbbc4",
        "colab": {
          "base_uri": "https://localhost:8080/",
          "height": 136
        }
      },
      "source": [
        "from sklearn.ensemble import RandomForestRegressor\n",
        "rfr = RandomForestRegressor(random_state=12, n_estimators=20, max_depth = 20)\n",
        "rfr.fit(x_train, y_train)"
      ],
      "execution_count": 270,
      "outputs": [
        {
          "output_type": "execute_result",
          "data": {
            "text/plain": [
              "RandomForestRegressor(bootstrap=True, ccp_alpha=0.0, criterion='mse',\n",
              "                      max_depth=20, max_features='auto', max_leaf_nodes=None,\n",
              "                      max_samples=None, min_impurity_decrease=0.0,\n",
              "                      min_impurity_split=None, min_samples_leaf=1,\n",
              "                      min_samples_split=2, min_weight_fraction_leaf=0.0,\n",
              "                      n_estimators=20, n_jobs=None, oob_score=False,\n",
              "                      random_state=12, verbose=0, warm_start=False)"
            ]
          },
          "metadata": {
            "tags": []
          },
          "execution_count": 270
        }
      ]
    },
    {
      "cell_type": "code",
      "metadata": {
        "id": "pjv8D_498d8K",
        "colab_type": "code",
        "outputId": "54026b17-3b7c-44bb-e1ab-75d65d58e920",
        "colab": {
          "base_uri": "https://localhost:8080/",
          "height": 51
        }
      },
      "source": [
        "print(rfr.score(x_train, y_train))\n",
        "print(rfr.score(x_test, y_test))"
      ],
      "execution_count": 271,
      "outputs": [
        {
          "output_type": "stream",
          "text": [
            "0.5874985151702214\n",
            "-0.0363304981309267\n"
          ],
          "name": "stdout"
        }
      ]
    },
    {
      "cell_type": "code",
      "metadata": {
        "id": "Z-J6w1t38kOM",
        "colab_type": "code",
        "outputId": "18607727-6c14-44ce-a181-73336694f381",
        "colab": {
          "base_uri": "https://localhost:8080/",
          "height": 34
        }
      },
      "source": [
        "y_predict = rfr.predict(x_test)\n",
        "rfr_mse = mean_squared_error(y_predict, y_test)\n",
        "rmse = math.sqrt(rfr_mse)\n",
        "rmse"
      ],
      "execution_count": 272,
      "outputs": [
        {
          "output_type": "execute_result",
          "data": {
            "text/plain": [
              "10.7358293042994"
            ]
          },
          "metadata": {
            "tags": []
          },
          "execution_count": 272
        }
      ]
    },
    {
      "cell_type": "code",
      "metadata": {
        "id": "lKUCj1Lz84N2",
        "colab_type": "code",
        "outputId": "59785159-b859-4548-9e9f-14e44865dc1f",
        "colab": {
          "base_uri": "https://localhost:8080/",
          "height": 295
        }
      },
      "source": [
        "plt.scatter(y_test, y_predict, c= 'g')\n",
        "plt.scatter(merged_df['outperform_percent'], merged_df['outperform_percent'], c='y')\n",
        "plt.xlabel('outperformance')\n",
        "plt.ylabel('perdicted outperformance')\n",
        "plt.title(\"Predicted vs Actual Plots\")\n",
        "plt.legend(['Test', 'Actual'], loc='lower right')\n",
        "plt.show()"
      ],
      "execution_count": 274,
      "outputs": [
        {
          "output_type": "display_data",
          "data": {
            "image/png": "[encoded data removed]",
            "text/plain": [
              "<Figure size 432x288 with 1 Axes>"
            ]
          },
          "metadata": {
            "tags": [],
            "needs_background": "light"
          }
        }
      ]
    },
    {
      "cell_type": "markdown",
      "metadata": {
        "id": "yu1IXC5_-3B2",
        "colab_type": "text"
      },
      "source": [
        "## Classification"
      ]
    },
    {
      "cell_type": "markdown",
      "metadata": {
        "id": "-6PRsTDAbpjl",
        "colab_type": "text"
      },
      "source": [
        "I still didn't want to give up after all the failed results of the previous regression models. I shifted my assumption to that even though we couldn't predict the actual outperformace of the stocks, we might still be able to tell which stocks will be likely to perform well (above a certain threshold). I picked the threshold as 10% for this analysis. Note that one problem we might encounter is from the imbalance of the data, in which only 16% of the data outperforms the market by 10%."
      ]
    },
    {
      "cell_type": "code",
      "metadata": {
        "id": "us6ck0c42AE7",
        "colab_type": "code",
        "outputId": "56af3e83-195a-4cee-c4bd-6ca82bd3dd99",
        "colab": {
          "base_uri": "https://localhost:8080/",
          "height": 34
        }
      },
      "source": [
        "perfomance_threshold = 10\n",
        "sum(merged_df['outperform_percent']>perfomance_threshold)"
      ],
      "execution_count": 275,
      "outputs": [
        {
          "output_type": "execute_result",
          "data": {
            "text/plain": [
              "2235"
            ]
          },
          "metadata": {
            "tags": []
          },
          "execution_count": 275
        }
      ]
    },
    {
      "cell_type": "code",
      "metadata": {
        "id": "WvpiM_zj2MVu",
        "colab_type": "code",
        "outputId": "a063da76-8622-4172-9e7c-ce6338bfbaae",
        "colab": {
          "base_uri": "https://localhost:8080/",
          "height": 34
        }
      },
      "source": [
        "# % of data with values 1\n",
        "sum(merged_df['outperform_percent']>perfomance_threshold)/len(merged_df['outperform_percent'])"
      ],
      "execution_count": 276,
      "outputs": [
        {
          "output_type": "execute_result",
          "data": {
            "text/plain": [
              "0.16280594405594406"
            ]
          },
          "metadata": {
            "tags": []
          },
          "execution_count": 276
        }
      ]
    },
    {
      "cell_type": "code",
      "metadata": {
        "id": "rUVLr_4N-9N3",
        "colab_type": "code",
        "colab": {}
      },
      "source": [
        "# create a new column called 'significant_perform' which takes the value True or False (1 or 0)\n",
        "merged_df['significant_perform'] = merged_df['outperform_percent']>perfomance_threshold"
      ],
      "execution_count": 0,
      "outputs": []
    },
    {
      "cell_type": "code",
      "metadata": {
        "id": "gn1bf5bDCGtM",
        "colab_type": "code",
        "colab": {}
      },
      "source": [
        "from sklearn.model_selection import train_test_split\n",
        "col_notx = ['date', 'ticker','close','close2','price change','sp500change','outperform_percent','significant_perform']\n",
        "x_train, x_test, y_train, y_test = train_test_split(merged_df.drop(col_notx, axis=1),\n",
        "                                                    merged_df['significant_perform'], test_size=0.2, random_state=22)"
      ],
      "execution_count": 0,
      "outputs": []
    },
    {
      "cell_type": "markdown",
      "metadata": {
        "id": "h25jgRug-6rt",
        "colab_type": "text"
      },
      "source": [
        "### Logistic Regression"
      ]
    },
    {
      "cell_type": "markdown",
      "metadata": {
        "id": "CXucozlVcfkc",
        "colab_type": "text"
      },
      "source": [
        "The score from the simple logistic regression seems like the model is useful for the prediction. However, when plotting the confusion matrix, I could see that even though the accuracy is good, the sensitivity and specificity of the model tells us that there is no true posititive. That is, the model had an overwhelming amount of negative predictions: it predicted that all of the stocks will not outperform the market to the 10% threshold. "
      ]
    },
    {
      "cell_type": "code",
      "metadata": {
        "id": "7N4dL2bLCJeN",
        "colab_type": "code",
        "outputId": "41b7bda8-cf0f-4829-8435-3c9643fcb44c",
        "colab": {
          "base_uri": "https://localhost:8080/",
          "height": 272
        }
      },
      "source": [
        "from sklearn.linear_model import LogisticRegression\n",
        "\n",
        "lin_reg = LogisticRegression(random_state=10)\n",
        "lin_reg.fit(x_train, y_train)"
      ],
      "execution_count": 279,
      "outputs": [
        {
          "output_type": "stream",
          "text": [
            "/usr/local/lib/python3.6/dist-packages/sklearn/linear_model/_logistic.py:940: ConvergenceWarning:\n",
            "\n",
            "lbfgs failed to converge (status=2):\n",
            "ABNORMAL_TERMINATION_IN_LNSRCH.\n",
            "\n",
            "Increase the number of iterations (max_iter) or scale the data as shown in:\n",
            "    https://scikit-learn.org/stable/modules/preprocessing.html\n",
            "Please also refer to the documentation for alternative solver options:\n",
            "    https://scikit-learn.org/stable/modules/linear_model.html#logistic-regression\n",
            "\n"
          ],
          "name": "stderr"
        },
        {
          "output_type": "execute_result",
          "data": {
            "text/plain": [
              "LogisticRegression(C=1.0, class_weight=None, dual=False, fit_intercept=True,\n",
              "                   intercept_scaling=1, l1_ratio=None, max_iter=100,\n",
              "                   multi_class='auto', n_jobs=None, penalty='l2',\n",
              "                   random_state=10, solver='lbfgs', tol=0.0001, verbose=0,\n",
              "                   warm_start=False)"
            ]
          },
          "metadata": {
            "tags": []
          },
          "execution_count": 279
        }
      ]
    },
    {
      "cell_type": "code",
      "metadata": {
        "id": "XcUV7gcMCQ7z",
        "colab_type": "code",
        "outputId": "074d6fa9-bf5b-46e5-8105-eb0012c2f623",
        "colab": {
          "base_uri": "https://localhost:8080/",
          "height": 51
        }
      },
      "source": [
        "print(lin_reg.score(x_train, y_train))\n",
        "print(lin_reg.score(x_test, y_test))"
      ],
      "execution_count": 280,
      "outputs": [
        {
          "output_type": "stream",
          "text": [
            "0.8339100346020761\n",
            "0.8503277494537509\n"
          ],
          "name": "stdout"
        }
      ]
    },
    {
      "cell_type": "code",
      "metadata": {
        "id": "kV52wI-wCSaK",
        "colab_type": "code",
        "outputId": "9b76d18b-8a73-4740-f29d-0a67ab978b18",
        "colab": {
          "base_uri": "https://localhost:8080/",
          "height": 51
        }
      },
      "source": [
        "from sklearn.metrics import confusion_matrix\n",
        "\n",
        "y_predict = lin_reg.predict(x_test)\n",
        "cma = confusion_matrix(y_test, y_predict)\n",
        "cma"
      ],
      "execution_count": 281,
      "outputs": [
        {
          "output_type": "execute_result",
          "data": {
            "text/plain": [
              "array([[2335,    0],\n",
              "       [ 411,    0]])"
            ]
          },
          "metadata": {
            "tags": []
          },
          "execution_count": 281
        }
      ]
    },
    {
      "cell_type": "code",
      "metadata": {
        "id": "32GyrJ0XGqmP",
        "colab_type": "code",
        "outputId": "8baaae92-8d8f-4016-fdd1-1a5e20feb24a",
        "colab": {
          "base_uri": "https://localhost:8080/",
          "height": 324
        }
      },
      "source": [
        "plt.clf()\n",
        "plt.imshow(cma, interpolation='nearest', cmap=plt.cm.Wistia)\n",
        "classNames = ['Negative','Positive']\n",
        "plt.title('Confusion Matrix - Test Data')\n",
        "plt.ylabel('Actual')\n",
        "plt.xlabel('Predicted')\n",
        "tick_marks = np.arange(len(classNames))\n",
        "plt.xticks(tick_marks, classNames, rotation=45)\n",
        "plt.yticks(tick_marks, classNames)\n",
        "s = [['TN','FP'], ['FN', 'TP']]\n",
        "for i in range(2):\n",
        "    for j in range(2):\n",
        "        plt.text(j,i, str(s[i][j])+\" = \"+str(cma[i][j]))\n",
        "plt.show()"
      ],
      "execution_count": 282,
      "outputs": [
        {
          "output_type": "display_data",
          "data": {
            "image/png": "[encoded data removed]",
            "text/plain": [
              "<Figure size 432x288 with 1 Axes>"
            ]
          },
          "metadata": {
            "tags": [],
            "needs_background": "light"
          }
        }
      ]
    },
    {
      "cell_type": "markdown",
      "metadata": {
        "id": "QPCEYFHPCXLH",
        "colab_type": "text"
      },
      "source": [
        "### Random Forest"
      ]
    },
    {
      "cell_type": "markdown",
      "metadata": {
        "id": "euBS-i15dMJm",
        "colab_type": "text"
      },
      "source": [
        "Similarly, I fitted the random forest model to classify the data. The accuracy scores make a lot of sense. But still, when I plotted the confusion matrix and the ROC curve, I could see that the prediction mostly failed to determine the true positive values. The AUC is only 0.52, and the model cannot be considered useful."
      ]
    },
    {
      "cell_type": "code",
      "metadata": {
        "id": "QHgcYq4wCV09",
        "colab_type": "code",
        "outputId": "6db6e180-905c-40ca-856c-22eb3b7e969a",
        "colab": {
          "base_uri": "https://localhost:8080/",
          "height": 153
        }
      },
      "source": [
        "from sklearn.ensemble import RandomForestClassifier\n",
        "rfr = RandomForestClassifier(random_state=12, n_estimators=20, max_depth = 20)\n",
        "rfr.fit(x_train, y_train)"
      ],
      "execution_count": 283,
      "outputs": [
        {
          "output_type": "execute_result",
          "data": {
            "text/plain": [
              "RandomForestClassifier(bootstrap=True, ccp_alpha=0.0, class_weight=None,\n",
              "                       criterion='gini', max_depth=20, max_features='auto',\n",
              "                       max_leaf_nodes=None, max_samples=None,\n",
              "                       min_impurity_decrease=0.0, min_impurity_split=None,\n",
              "                       min_samples_leaf=1, min_samples_split=2,\n",
              "                       min_weight_fraction_leaf=0.0, n_estimators=20,\n",
              "                       n_jobs=None, oob_score=False, random_state=12, verbose=0,\n",
              "                       warm_start=False)"
            ]
          },
          "metadata": {
            "tags": []
          },
          "execution_count": 283
        }
      ]
    },
    {
      "cell_type": "code",
      "metadata": {
        "id": "p-tf-OKVCc10",
        "colab_type": "code",
        "outputId": "e207d797-9464-4473-eab5-3a094521a44b",
        "colab": {
          "base_uri": "https://localhost:8080/",
          "height": 51
        }
      },
      "source": [
        "print(rfr.score(x_train, y_train))\n",
        "print(rfr.score(x_test, y_test))"
      ],
      "execution_count": 284,
      "outputs": [
        {
          "output_type": "stream",
          "text": [
            "0.9574758696048079\n",
            "0.8455935906773488\n"
          ],
          "name": "stdout"
        }
      ]
    },
    {
      "cell_type": "code",
      "metadata": {
        "id": "V3XUACv5CkUG",
        "colab_type": "code",
        "outputId": "e3c076e9-8ad8-481f-a94e-92a84a6bcaf3",
        "colab": {
          "base_uri": "https://localhost:8080/",
          "height": 51
        }
      },
      "source": [
        "y_predict = rfr.predict(x_test)\n",
        "cma = confusion_matrix(y_test, y_predict)\n",
        "cma"
      ],
      "execution_count": 285,
      "outputs": [
        {
          "output_type": "execute_result",
          "data": {
            "text/plain": [
              "array([[2303,   32],\n",
              "       [ 392,   19]])"
            ]
          },
          "metadata": {
            "tags": []
          },
          "execution_count": 285
        }
      ]
    },
    {
      "cell_type": "code",
      "metadata": {
        "id": "W0_bhBGLHjnv",
        "colab_type": "code",
        "outputId": "9a84c461-a9fa-4c48-bb9e-d227dd26c5d1",
        "colab": {
          "base_uri": "https://localhost:8080/",
          "height": 324
        }
      },
      "source": [
        "plt.clf()\n",
        "plt.imshow(cma, interpolation='nearest', cmap=plt.cm.Wistia)\n",
        "classNames = ['Negative','Positive']\n",
        "plt.title('Confusion Matrix - Test Data')\n",
        "plt.ylabel('Actual')\n",
        "plt.xlabel('Predicted')\n",
        "tick_marks = np.arange(len(classNames))\n",
        "plt.xticks(tick_marks, classNames, rotation=45)\n",
        "plt.yticks(tick_marks, classNames)\n",
        "s = [['TN','FP'], ['FN', 'TP']]\n",
        "for i in range(2):\n",
        "    for j in range(2):\n",
        "        plt.text(j,i, str(s[i][j])+\" = \"+str(cma[i][j]))\n",
        "plt.show()"
      ],
      "execution_count": 286,
      "outputs": [
        {
          "output_type": "display_data",
          "data": {
            "image/png": "[encoded data removed]",
            "text/plain": [
              "<Figure size 432x288 with 1 Axes>"
            ]
          },
          "metadata": {
            "tags": [],
            "needs_background": "light"
          }
        }
      ]
    },
    {
      "cell_type": "code",
      "metadata": {
        "id": "6uI7fgq_0mpl",
        "colab_type": "code",
        "outputId": "f5f62a03-e851-4d12-d071-9a63584fa30f",
        "colab": {
          "base_uri": "https://localhost:8080/",
          "height": 312
        }
      },
      "source": [
        "from sklearn import metrics\n",
        "fpr, tpr, threshold = metrics.roc_curve(y_test, y_predict)\n",
        "roc_auc = metrics.auc(fpr, tpr)\n",
        "print(roc_auc)\n",
        "\n",
        "plt.title('Receiver Operating Characteristic')\n",
        "plt.plot(fpr, tpr, 'b', label = 'AUC = %0.2f' % roc_auc)\n",
        "plt.legend(loc = 'lower right')\n",
        "plt.plot([0, 1], [0, 1],'r--')\n",
        "plt.xlim([0, 1])\n",
        "plt.ylim([0, 1])\n",
        "plt.ylabel('True Positive Rate')\n",
        "plt.xlabel('False Positive Rate')\n",
        "plt.show()"
      ],
      "execution_count": 287,
      "outputs": [
        {
          "output_type": "stream",
          "text": [
            "0.5162621068371392\n"
          ],
          "name": "stdout"
        },
        {
          "output_type": "display_data",
          "data": {
            "image/png": "[encoded data removed]",
            "text/plain": [
              "<Figure size 432x288 with 1 Axes>"
            ]
          },
          "metadata": {
            "tags": [],
            "needs_background": "light"
          }
        }
      ]
    },
    {
      "cell_type": "markdown",
      "metadata": {
        "id": "gFNfX4zAihwk",
        "colab_type": "text"
      },
      "source": [
        "# Challenges and Possible Improvement\n",
        "\n",
        "One main challenge that I might encounter in Part 1 concerns dealing with data outside the training range. This is especially the case with Random Forest prediction. When the model encounters the data it has never seen before, the prediction is far from accurate. One solution is to include more data across time. However, the issue might still be hard to solve, as the market and stock price keeps rising. The performance of the model will be tested on\n",
        "the data set aside for backtesting, so the result might not be that useful far in the\n",
        "future when the economic condition changes.\n",
        "\n",
        "There are also a lot of challenges in Part 2. First of all, it was challenging to find a way to download the fundamental data, and those fundamentals do not get updated every day. Luckily, for public companies, they are required to release quarterly data, and I could find the FundamentalAnalysis Package to extract those data. Still, some of the stock tickers did not work with the package, and I decided to delete those that cause problem while running. A big improvement might be to include more stocks and also analyze the stocks in each industry, which might give more accurate models. \n",
        "\n",
        "Another possible improvement is how to deal with correlation inherent in time series data like stock closing price. My time series analysis in Extra: Time Series with Prophet touches on this topic a bit, but is far from ideal. \n"
      ]
    },
    {
      "cell_type": "markdown",
      "metadata": {
        "id": "YHnDc_H4d0Y3",
        "colab_type": "text"
      },
      "source": [
        "# Conclusion\n",
        "\n",
        "Part 1 gives several good models for the technical analysis of the stock price based on the previous close prices. I hope to make this my starting point/inspiration of creating\n",
        "profitable trading algorithms.\n",
        "\n",
        "However, Part 2 fundamental analysis does not give any valuable model. The biggest takeaways can  be that the assumption is not valid. Still, this also agrees with the random walk theory. When switching to do the classification instead, the accuracy is quite good. However, that was mostly the result of saying that most of the stocks will not outperform the market that much. \n",
        "\n",
        "Although only Part 1 yields a meaningful result, I chose to include part 2 of the project, as similar analysis to part 1 has been done all over the world. I thought Part 2 would give a different viewpoint on how to approach quantitative finance. Still, there is a lot of room for improvement and stuff for me to learn. And of course, nothing in this market is perfectly explainable. Experts are still having\n",
        "a hard time predicting the market. The performance of the model will be tested on\n",
        "the data set aside for backtesting, so the result might not be that useful far in the\n",
        "future when the economic condition changes. I was not that surprised that my part 2 analysis didn't work, as if such a simple model could work well, then quantitative finance would not be such a complex and intriguing field. \n",
        "\n",
        "Therefore, while not all my models might be applicable for now, I chose to this part for the project because I believe this can lead to effective modifications or further research."
      ]
    }
  ]
}